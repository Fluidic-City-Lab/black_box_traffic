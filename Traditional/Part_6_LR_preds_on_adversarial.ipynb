{
 "cells": [
  {
   "cell_type": "code",
   "execution_count": 1,
   "metadata": {},
   "outputs": [],
   "source": [
    "import numpy as np\n",
    "\n",
    "import glob\n",
    "import torch\n",
    "import torch.nn.functional as F\n",
    "import torch.nn as nn\n",
    "from torch.utils.data import Dataset\n",
    "\n",
    "import advertorch\n",
    "from advertorch.attacks import GradientSignAttack\n",
    "from advertorch.attacks import LinfPGDAttack\n",
    "from advertorch.attacks import CarliniWagnerL2Attack\n",
    "\n",
    "# Need the model for which AE is generated here\n",
    "from Resnet_adaptation import new_cnn_model"
   ]
  },
  {
   "cell_type": "code",
   "execution_count": 2,
   "metadata": {},
   "outputs": [],
   "source": [
    "# RANDOMIZE\n",
    "SEED = 42\n",
    "torch.manual_seed(SEED)\n",
    "np.random.seed(SEED)"
   ]
  },
  {
   "cell_type": "code",
   "execution_count": 3,
   "metadata": {},
   "outputs": [
    {
     "name": "stdout",
     "output_type": "stream",
     "text": [
      "cuda\n"
     ]
    }
   ],
   "source": [
    "device = torch.device('cuda' if torch.cuda.is_available() else 'cpu')\n",
    "print(device)"
   ]
  },
  {
   "cell_type": "code",
   "execution_count": 4,
   "metadata": {},
   "outputs": [
    {
     "name": "stdout",
     "output_type": "stream",
     "text": [
      "Mean =4090.28, Std = 2164.09\n"
     ]
    }
   ],
   "source": [
    "# get scalers\n",
    "training_set = np.load('./data/train.npz')\n",
    "\n",
    "mean = round(training_set['x'][...,0].mean(), 2)\n",
    "std = round(training_set['x'][...,0].std(), 2)\n",
    "\n",
    "print(\"Mean ={}, Std = {}\".format(mean, std))"
   ]
  },
  {
   "cell_type": "code",
   "execution_count": 5,
   "metadata": {},
   "outputs": [],
   "source": [
    "class linearRegression(torch.nn.Module):\n",
    "    def __init__(self, inputSize, outputSize):\n",
    "        super(linearRegression, self).__init__()\n",
    "        self.linear = torch.nn.Linear(inputSize, outputSize)\n",
    "\n",
    "    def forward(self, x):\n",
    "        out = self.linear(x)\n",
    "        return out"
   ]
  },
  {
   "cell_type": "code",
   "execution_count": 6,
   "metadata": {},
   "outputs": [
    {
     "name": "stdout",
     "output_type": "stream",
     "text": [
      "150\n",
      "150\n"
     ]
    }
   ],
   "source": [
    "# load all trained linear models\n",
    "# load all pretrained models\n",
    "paths = glob.glob('./lr/best_models/*.pt')\n",
    "print(len(paths))\n",
    "\n",
    "trained_models = []\n",
    "for i in paths:\n",
    "    trained_models.append(torch.load(i))\n",
    "    \n",
    "print(len(trained_models))"
   ]
  },
  {
   "cell_type": "code",
   "execution_count": 7,
   "metadata": {},
   "outputs": [
    {
     "name": "stdout",
     "output_type": "stream",
     "text": [
      "Shape = (2616, 12, 150), Max = 3.490483283996582\n",
      "Shape = (2616, 12, 150), Max = 3.490483283996582\n",
      "Shape = (2616, 12, 150), Max = 11644.0\n",
      "Shape = (2616, 12, 150), Max = 11644.0\n",
      "(150, 2616, 12)\n",
      "(150, 2616, 12)\n"
     ]
    }
   ],
   "source": [
    "# load adversarial data and reshape\n",
    "\n",
    "fgsm_flow = np.load('./lr/adv_fgsm.npy', allow_pickle = True)\n",
    "print(\"Shape = {}, Max = {}\".format(fgsm_flow.shape, np.max(fgsm_flow)))\n",
    "\n",
    "bim_flow = np.load('./lr/adv_bim.npy', allow_pickle = True)\n",
    "print(\"Shape = {}, Max = {}\".format(bim_flow.shape, np.max(bim_flow)))\n",
    "\n",
    "fgsm_flow = fgsm_flow*std + mean\n",
    "print(\"Shape = {}, Max = {}\".format(fgsm_flow.shape, np.max(fgsm_flow)))\n",
    "\n",
    "bim_flow = bim_flow*std + mean\n",
    "print(\"Shape = {}, Max = {}\".format(bim_flow.shape, np.max(bim_flow)))\n",
    "\n",
    "# reshape to \n",
    "\n",
    "n_nodes= 150\n",
    "fgsm_flow_new = []\n",
    "\n",
    "for i in range(n_nodes):\n",
    "    samples_collect = []\n",
    "    for j in range(len(fgsm_flow)):\n",
    "        for k in range(n_nodes):\n",
    "            if k==i:\n",
    "                samples_collect.append(fgsm_flow[j,:,k])\n",
    "    fgsm_flow_new.append(samples_collect)\n",
    "    \n",
    "fgsm_flow_new = np.array(fgsm_flow_new)\n",
    "print(fgsm_flow_new.shape)\n",
    "\n",
    "n_nodes= 150\n",
    "bim_flow_new = []\n",
    "\n",
    "for i in range(n_nodes):\n",
    "    samples_collect = []\n",
    "    for j in range(len(bim_flow)):\n",
    "        for k in range(n_nodes):\n",
    "            if k==i:\n",
    "                samples_collect.append(bim_flow[j,:,k])\n",
    "    bim_flow_new.append(samples_collect)\n",
    "    \n",
    "bim_flow_new = np.array(bim_flow_new)\n",
    "print(bim_flow_new.shape)"
   ]
  },
  {
   "cell_type": "code",
   "execution_count": 8,
   "metadata": {},
   "outputs": [],
   "source": [
    "class TR_dataset_no_targets(Dataset):\n",
    "    def __init__(self, data_list):\n",
    "        self.data_list = data_list\n",
    "        \n",
    "    def __len__(self):\n",
    "        return len(self.data_list)\n",
    "\n",
    "    def __getitem__(self, key):\n",
    "        input_seq = self.data_list[key]\n",
    "        return input_seq"
   ]
  },
  {
   "cell_type": "code",
   "execution_count": 9,
   "metadata": {},
   "outputs": [],
   "source": [
    "# make dataloaders\n",
    "BATCH_SIZE = 1\n",
    "\n",
    "fgsm_data_loaders =[]\n",
    "bim_data_loaders =[]\n",
    "\n",
    "for i in range(len(trained_models)):\n",
    "    fgsm_set = TR_dataset_no_targets(fgsm_flow_new[i])\n",
    "    \n",
    "    fgsm_dataloader = torch.utils.data.DataLoader(dataset=fgsm_set,\n",
    "                                               batch_size=BATCH_SIZE,\n",
    "                                               collate_fn=None,\n",
    "                                               shuffle=False)\n",
    "    fgsm_data_loaders.append(fgsm_dataloader)\n",
    "    \n",
    "    bim_set = TR_dataset_no_targets(bim_flow_new[i])\n",
    "    \n",
    "    bim_dataloader = torch.utils.data.DataLoader(dataset=bim_set,\n",
    "                                               batch_size=BATCH_SIZE,\n",
    "                                               collate_fn=None,\n",
    "                                               shuffle=False)\n",
    "    \n",
    "    \n",
    "    bim_data_loaders.append(bim_dataloader)"
   ]
  },
  {
   "cell_type": "code",
   "execution_count": 10,
   "metadata": {},
   "outputs": [
    {
     "name": "stdout",
     "output_type": "stream",
     "text": [
      "(150, 2616, 12)\n"
     ]
    }
   ],
   "source": [
    "# make inference\n",
    "fgsm_outputs = []\n",
    "\n",
    "for i in range(len(trained_models)):\n",
    "    \n",
    "    new_model = trained_models[i].eval()\n",
    "    new_model.to(device)\n",
    "    \n",
    "    output_model = []\n",
    "    \n",
    "    with torch.no_grad():\n",
    "        \n",
    "        # enumerate the iterator correponding to the model\n",
    "        for bi, data in enumerate(fgsm_data_loaders[i]):\n",
    "            \n",
    "            data_batch = data.float().to(device)\n",
    "            \n",
    "            #print(data_batch.shape)\n",
    "            \n",
    "            output_batch = new_model(data_batch)\n",
    "            \n",
    "            output_batch_numpy = output_batch.cpu().detach().numpy()\n",
    "            \n",
    "            #print(output_batch_numpy.shape)\n",
    "            \n",
    "            output_model.append(np.squeeze(output_batch_numpy))\n",
    "            \n",
    "    fgsm_outputs.append(output_model)\n",
    "    \n",
    "fgsm_outputs = np.array(fgsm_outputs)\n",
    "print(fgsm_outputs.shape)\n",
    "np.save('./lr/fgsm_linear_model_output.npy', fgsm_outputs)"
   ]
  },
  {
   "cell_type": "code",
   "execution_count": 11,
   "metadata": {},
   "outputs": [
    {
     "name": "stdout",
     "output_type": "stream",
     "text": [
      "(150, 2616, 12)\n"
     ]
    }
   ],
   "source": [
    "# make inference\n",
    "bim_outputs = []\n",
    "\n",
    "for i in range(len(trained_models)):\n",
    "    \n",
    "    new_model = trained_models[i].eval()\n",
    "    new_model.to(device)\n",
    "    \n",
    "    output_model = []\n",
    "    \n",
    "    with torch.no_grad():\n",
    "        \n",
    "        # enumerate the iterator correponding to the model\n",
    "        for bi, data in enumerate(bim_data_loaders[i]):\n",
    "            \n",
    "            data_batch = data.float().to(device)\n",
    "            \n",
    "            #print(data_batch.shape)\n",
    "            \n",
    "            output_batch = new_model(data_batch)\n",
    "            \n",
    "            output_batch_numpy = output_batch.cpu().detach().numpy()\n",
    "            \n",
    "            #print(output_batch_numpy.shape)\n",
    "            \n",
    "            output_model.append(np.squeeze(output_batch_numpy))\n",
    "            \n",
    "    bim_outputs.append(output_model)\n",
    "    \n",
    "bim_outputs = np.array(bim_outputs)\n",
    "print(bim_outputs.shape)\n",
    "np.save('./lr/bim_linear_model_output.npy', bim_outputs)"
   ]
  },
  {
   "cell_type": "code",
   "execution_count": 12,
   "metadata": {},
   "outputs": [
    {
     "name": "stdout",
     "output_type": "stream",
     "text": [
      "(150, 2616, 12) (150, 2616, 12)\n",
      "(2616, 12, 150)\n",
      "(2616, 12, 150)\n"
     ]
    }
   ],
   "source": [
    "fgsm_preds = np.load('./lr/fgsm_linear_model_output.npy', allow_pickle = True)\n",
    "bim_preds = np.load('./lr/bim_linear_model_output.npy', allow_pickle = True)\n",
    "\n",
    "print(fgsm_preds.shape, bim_preds.shape)\n",
    "\n",
    "# convert back the shape\n",
    "\n",
    "fgsm_preds_new=[]\n",
    "\n",
    "num_samples = fgsm_preds.shape[1]\n",
    "\n",
    "for i in range(num_samples):\n",
    "    sample_collect=[]\n",
    "    for j in range(len(fgsm_preds)):\n",
    "        for k in range(num_samples):\n",
    "            if i==k:\n",
    "                selected = fgsm_preds[j,i,:]\n",
    "                sample_collect.append(selected)\n",
    "                \n",
    "    sample_collect = np.array(sample_collect).T.reshape((12,150), order='C')\n",
    "      \n",
    "    fgsm_preds_new.append(sample_collect)\n",
    "    \n",
    "fgsm_preds_new = np.array(fgsm_preds_new)\n",
    "print(fgsm_preds_new.shape)\n",
    "\n",
    "bim_preds_new=[]\n",
    "\n",
    "num_samples = bim_preds.shape[1]\n",
    "\n",
    "for i in range(num_samples):\n",
    "    sample_collect=[]\n",
    "    for j in range(len(bim_preds)):\n",
    "        for k in range(num_samples):\n",
    "            if i==k:\n",
    "                selected = bim_preds[j,i,:]\n",
    "                sample_collect.append(selected)\n",
    "                \n",
    "    sample_collect = np.array(sample_collect).T.reshape((12,150), order='C')\n",
    "      \n",
    "    bim_preds_new.append(sample_collect)\n",
    "    \n",
    "bim_preds_new = np.array(bim_preds_new)\n",
    "print(bim_preds_new.shape)"
   ]
  },
  {
   "cell_type": "code",
   "execution_count": 30,
   "metadata": {},
   "outputs": [
    {
     "name": "stdout",
     "output_type": "stream",
     "text": [
      "5787.3\n",
      "5787.3\n"
     ]
    }
   ],
   "source": [
    "print(fgsm_preds[140][2000][5])\n",
    "print(fgsm_preds_new[2000][5][140])"
   ]
  },
  {
   "cell_type": "code",
   "execution_count": 13,
   "metadata": {},
   "outputs": [
    {
     "name": "stdout",
     "output_type": "stream",
     "text": [
      "13803.234\n",
      "13722.801\n"
     ]
    }
   ],
   "source": [
    "print(np.max(fgsm_preds_new))\n",
    "print(np.max(bim_preds_new))"
   ]
  },
  {
   "cell_type": "code",
   "execution_count": 14,
   "metadata": {},
   "outputs": [
    {
     "name": "stdout",
     "output_type": "stream",
     "text": [
      "Shape = (2616, 12, 150), max = 11644.0\n"
     ]
    }
   ],
   "source": [
    "# load gts\n",
    "gts  = np.squeeze(np.load('./data/test.npz')['y']) # No need to denormalize\n",
    "print(\"Shape = {}, max = {}\".format(gts.shape, np.max(gts)))"
   ]
  },
  {
   "cell_type": "code",
   "execution_count": 15,
   "metadata": {},
   "outputs": [],
   "source": [
    "def get_metrics(pred, truth):\n",
    "    \n",
    "    # assert both have same lengths\n",
    "    num_signals = len(pred)\n",
    "    #print(num_signals)\n",
    "    \n",
    "    number_of_nodes = 150\n",
    "    time_steps = 12\n",
    "\n",
    "    rmse_collect = []\n",
    "    rmse = 0.0\n",
    "    \n",
    "    for i in range(num_signals):\n",
    "        rmse_signal = np.sum(np.square(pred[i]- truth[i]))\n",
    "        \n",
    "        # save this to true rmse first\n",
    "        rmse+= rmse_signal\n",
    "        \n",
    "        # arrange to collect\n",
    "        rmse_signal = np.sqrt(rmse_signal/(time_steps*number_of_nodes))\n",
    "        \n",
    "        # collect it\n",
    "        rmse_collect.append(round(rmse_signal,2))\n",
    "        \n",
    "\n",
    "    rmse = np.sqrt(rmse/(num_signals*time_steps*number_of_nodes))\n",
    "    #print(rmse)\n",
    "    rmse_collect = np.array(rmse_collect)\n",
    "    \n",
    "    return rmse, rmse_collect"
   ]
  },
  {
   "cell_type": "code",
   "execution_count": 16,
   "metadata": {},
   "outputs": [],
   "source": [
    "rmse_fgsm, rmse_fgsm_collect = get_metrics(fgsm_preds_new, gts)\n",
    "rmse_bim, rmse_bim_collect = get_metrics(bim_preds_new, gts)"
   ]
  },
  {
   "cell_type": "code",
   "execution_count": 17,
   "metadata": {},
   "outputs": [
    {
     "name": "stdout",
     "output_type": "stream",
     "text": [
      "FGSM: 1916.8371010578492\n",
      "BIM: 1891.2136722638445\n"
     ]
    }
   ],
   "source": [
    "print(\"FGSM:\", rmse_fgsm)\n",
    "print(\"BIM:\", rmse_bim)"
   ]
  },
  {
   "cell_type": "code",
   "execution_count": 18,
   "metadata": {},
   "outputs": [],
   "source": [
    "# common metric\n",
    "# define a common metric\n",
    "def measure_l2(one, two):\n",
    "    # Both will be 150*12 network wide snapshots\n",
    "    one = np.squeeze(np.array(one))\n",
    "    two = np.squeeze(np.array(two))\n",
    "    l2 = np.sum(np.square(one-two))\n",
    "    return l2\n",
    "\n",
    "def notation(number):\n",
    "    str_num = str(number)\n",
    "    splits = str_num.split('.')\n",
    "    leng = int(len(splits[0]))-1\n",
    "    divisor = 1\n",
    "    for i in range(leng):\n",
    "        divisor = divisor*10\n",
    "    changed_num = round((number/divisor),2)\n",
    "    return changed_num, leng"
   ]
  },
  {
   "cell_type": "code",
   "execution_count": 19,
   "metadata": {},
   "outputs": [
    {
     "name": "stdout",
     "output_type": "stream",
     "text": [
      "11644.0 (2616, 12, 150)\n"
     ]
    }
   ],
   "source": [
    "originals = np.squeeze(np.load('./data/test.npz')['x'])\n",
    "print(np.max(originals), originals.shape)"
   ]
  },
  {
   "cell_type": "code",
   "execution_count": 20,
   "metadata": {},
   "outputs": [
    {
     "name": "stdout",
     "output_type": "stream",
     "text": [
      "Signal: shape = (2616,), max = 337196714.116767\n",
      "FGSM: Mean = 335271182.3350971, a.k.a 3.35E8\n"
     ]
    }
   ],
   "source": [
    "# change in signal\n",
    "fgsm_sig_change_collect = []\n",
    "for i in range(len(originals)):\n",
    "    sig_change = measure_l2(originals[i], fgsm_flow[i])\n",
    "    fgsm_sig_change_collect.append(sig_change)\n",
    "fgsm_sig_change_collect = np.array(fgsm_sig_change_collect)\n",
    "print(f'Signal: shape = {fgsm_sig_change_collect.shape}, max = {np.max(fgsm_sig_change_collect)}' )\n",
    "\n",
    "fgsm_mean = np.mean(fgsm_sig_change_collect)\n",
    "num_fgsm, exp_fgsm = notation(fgsm_mean)\n",
    "print(\"FGSM: Mean = {}, a.k.a {}E{}\".format(fgsm_mean,num_fgsm, exp_fgsm) )"
   ]
  },
  {
   "cell_type": "code",
   "execution_count": 21,
   "metadata": {},
   "outputs": [
    {
     "name": "stdout",
     "output_type": "stream",
     "text": [
      "Signal: shape = (2616,), max = 157386022.70512205\n",
      "FGSM: Mean = 145078424.27213487, a.k.a 1.45E8\n"
     ]
    }
   ],
   "source": [
    "# change in signal\n",
    "bim_sig_change_collect = []\n",
    "for i in range(len(originals)):\n",
    "    sig_change = measure_l2(originals[i], bim_flow[i])\n",
    "    bim_sig_change_collect.append(sig_change)\n",
    "bim_sig_change_collect = np.array(bim_sig_change_collect)\n",
    "print(f'Signal: shape = {bim_sig_change_collect.shape}, max = {np.max(bim_sig_change_collect)}' )\n",
    "\n",
    "bim_mean = np.mean(bim_sig_change_collect)\n",
    "num_bim, exp_bim = notation(bim_mean)\n",
    "print(\"FGSM: Mean = {}, a.k.a {}E{}\".format(bim_mean,num_bim, exp_bim) )"
   ]
  },
  {
   "cell_type": "code",
   "execution_count": 22,
   "metadata": {},
   "outputs": [
    {
     "name": "stdout",
     "output_type": "stream",
     "text": [
      "Shape = (150, 2616, 12), max = 13225.5400390625, mean = 4160.63134765625\n",
      "(2616, 12, 150)\n"
     ]
    }
   ],
   "source": [
    "# preds on originals\n",
    "# need shape change?\n",
    "outputs_lr = np.load('./lr/linear_model_output.npy', allow_pickle = True) \n",
    "print(\"Shape = {}, max = {}, mean = {}\".format(outputs_lr.shape, np.max(outputs_lr), np.mean(outputs_lr)))\n",
    "\n",
    "# output in the same shape as gts\n",
    "outputs_lr_new=[]\n",
    "num_samples = outputs_lr.shape[1]\n",
    "\n",
    "for i in range(num_samples):\n",
    "    sample_collect=[]\n",
    "    for j in range(len(outputs_lr)):\n",
    "        for k in range(num_samples):\n",
    "            if i==k:\n",
    "                selected = outputs_lr[j,i,:]\n",
    "                sample_collect.append(selected)\n",
    "                \n",
    "    sample_collect = np.array(sample_collect).T.reshape((12,150), order='C')\n",
    "    #print(sample_collect.shape)        \n",
    "        \n",
    "    outputs_lr_new.append(sample_collect)\n",
    "    \n",
    "outputs_lr_new = np.array(outputs_lr_new)\n",
    "print(outputs_lr_new.shape)\n"
   ]
  },
  {
   "cell_type": "code",
   "execution_count": 29,
   "metadata": {},
   "outputs": [
    {
     "name": "stdout",
     "output_type": "stream",
     "text": [
      "5714.2715\n",
      "5714.2715\n"
     ]
    }
   ],
   "source": [
    "print(outputs_lr[140][2000][5])\n",
    "print(outputs_lr_new[2000][5][140])"
   ]
  },
  {
   "cell_type": "code",
   "execution_count": 27,
   "metadata": {},
   "outputs": [
    {
     "name": "stdout",
     "output_type": "stream",
     "text": [
      "(2616, 12, 150)\n",
      "(2616, 12, 150)\n",
      "13803.234\n",
      "13722.801\n",
      "13225.54\n"
     ]
    }
   ],
   "source": [
    "print(fgsm_preds_new.shape)\n",
    "print(bim_preds_new.shape)\n",
    "\n",
    "print(np.max(fgsm_preds_new))\n",
    "print(np.max(bim_preds_new))\n",
    "\n",
    "print(np.max(outputs_lr_new))"
   ]
  },
  {
   "cell_type": "code",
   "execution_count": 23,
   "metadata": {},
   "outputs": [
    {
     "name": "stdout",
     "output_type": "stream",
     "text": [
      "Signal: shape = (2616,), max = 379811968.0\n",
      "preds FGSM: Mean = 315897184.0, a.k.a 3.16E8\n"
     ]
    }
   ],
   "source": [
    "fgsm_preds_change_collect = []\n",
    "\n",
    "for i in range(len(outputs_lr_new)):\n",
    "    \n",
    "    pred_change = measure_l2(outputs_lr_new[i], fgsm_preds_new[i])\n",
    "    \n",
    "    fgsm_preds_change_collect.append(pred_change)\n",
    "    \n",
    "fgsm_preds_change_collect = np.array(fgsm_preds_change_collect)\n",
    "\n",
    "print(f'Signal: shape = {fgsm_preds_change_collect.shape}, max = {np.max(fgsm_preds_change_collect)}' )\n",
    "\n",
    "preds_fgsm_mean = np.mean(fgsm_preds_change_collect)\n",
    "\n",
    "p_num_fgsm, p_exp_fgsm = notation(preds_fgsm_mean)\n",
    "\n",
    "print(\"preds FGSM: Mean = {}, a.k.a {}E{}\".format(preds_fgsm_mean,p_num_fgsm, p_exp_fgsm) )"
   ]
  },
  {
   "cell_type": "code",
   "execution_count": 24,
   "metadata": {},
   "outputs": [
    {
     "name": "stdout",
     "output_type": "stream",
     "text": [
      "Signal: shape = (2616,), max = 171424144.0\n",
      "preds FGSM: Mean = 137952032.0, a.k.a 1.38E8\n"
     ]
    }
   ],
   "source": [
    "# preds on adversarials\n",
    "bim_preds_change_collect = []\n",
    "\n",
    "for i in range(len(outputs_lr_new)):\n",
    "    \n",
    "    pred_change = measure_l2(outputs_lr_new[i], bim_preds_new[i])\n",
    "    \n",
    "    bim_preds_change_collect.append(pred_change)\n",
    "    \n",
    "bim_preds_change_collect = np.array(bim_preds_change_collect)\n",
    "\n",
    "print(f'Signal: shape = {bim_preds_change_collect.shape}, max = {np.max(bim_preds_change_collect)}' )\n",
    "\n",
    "preds_bim_mean = np.mean(bim_preds_change_collect)\n",
    "\n",
    "p_num_bim, p_exp_bim = notation(preds_bim_mean)\n",
    "\n",
    "print(\"preds FGSM: Mean = {}, a.k.a {}E{}\".format(preds_bim_mean,p_num_bim, p_exp_bim) )"
   ]
  },
  {
   "cell_type": "code",
   "execution_count": 51,
   "metadata": {},
   "outputs": [
    {
     "data": {
      "image/png": "[encoded data removed]",
      "text/plain": [
       "<Figure size 1500x1500 with 1 Axes>"
      ]
     },
     "metadata": {},
     "output_type": "display_data"
    }
   ],
   "source": [
    "import pandas as pd\n",
    "import matplotlib.pyplot as plt\n",
    "import seaborn as sns\n",
    "\n",
    "sns.set_palette(palette='magma', n_colors=3)\n",
    "sns.set_style(\"darkgrid\")\n",
    "\n",
    "# Load inputs\n",
    "orig_dstr = np.load('./lr/original_dstr.npy', allow_pickle = True)\n",
    "fgsm_dstr = rmse_fgsm_collect\n",
    "bim_dstr = rmse_bim_collect\n",
    "\n",
    "dstr_data = np.array([bim_dstr, fgsm_dstr, orig_dstr])\n",
    "df = pd.DataFrame({'bim': dstr_data[2,:], 'fgsm': dstr_data[1,:], 'orig': dstr_data[0,:]})\n",
    "df.shape\n",
    "\n",
    "\n",
    "fs = 18\n",
    "\n",
    "plt.rc('xtick', labelsize=fs-2) \n",
    "plt.rc('ytick', labelsize=fs-2) \n",
    "\n",
    "sns.set_palette(palette='viridis', n_colors=3)\n",
    "\n",
    "n_bins = 12\n",
    "x = df.values\n",
    "\n",
    "fig, axes = plt.subplots(figsize=(5,5),dpi=300)\n",
    "colors = df.columns\n",
    "axes.hist(x, n_bins, density=False, histtype='bar', range=(600,3500), label=colors)\n",
    "\n",
    "axes.set_title(\"LR\", fontweight='bold',fontsize=fs)\n",
    "labels =[\"Original signal\",\"A.E. by FGSM\",\"A.E. by BIM\"]\n",
    "axes.legend(labels, fontsize=fs-2)\n",
    "axes.set_xlabel('RMSE (v/h)', fontweight='bold', fontsize=fs)\n",
    "axes.set_ylabel('Number of signals', fontweight='bold', fontsize=fs);\n",
    "fig.tight_layout()"
   ]
  },
  {
   "cell_type": "code",
   "execution_count": null,
   "metadata": {},
   "outputs": [],
   "source": []
  }
 ],
 "metadata": {
  "kernelspec": {
   "display_name": "Python 3",
   "language": "python",
   "name": "python3"
  },
  "language_info": {
   "codemirror_mode": {
    "name": "ipython",
    "version": 3
   },
   "file_extension": ".py",
   "mimetype": "text/x-python",
   "name": "python",
   "nbconvert_exporter": "python",
   "pygments_lexer": "ipython3",
   "version": "3.8.5"
  }
 },
 "nbformat": 4,
 "nbformat_minor": 4
}
