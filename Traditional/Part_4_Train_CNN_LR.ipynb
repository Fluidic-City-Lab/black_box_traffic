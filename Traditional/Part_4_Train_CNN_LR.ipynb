{
 "cells": [
  {
   "cell_type": "code",
   "execution_count": 1,
   "metadata": {},
   "outputs": [],
   "source": [
    "import random\n",
    "import numpy as np\n",
    "import matplotlib.pyplot as plt\n",
    "import seaborn as sns\n",
    "sns.set_palette(palette='magma', n_colors=3)\n",
    "sns.set_style(\"darkgrid\")\n",
    "\n",
    "import torch\n",
    "import torch.nn as nn\n",
    "import torch.optim as optim\n",
    "import torch.nn.functional as F\n",
    "from torch.utils.data import Dataset\n",
    "\n",
    "from sklearn.model_selection import train_test_split\n",
    "from Resnet_adaptation import new_cnn_model"
   ]
  },
  {
   "cell_type": "code",
   "execution_count": 2,
   "metadata": {},
   "outputs": [],
   "source": [
    "# set seeds\n",
    "SEED = 42\n",
    "random.seed(SEED)\n",
    "torch.manual_seed(SEED)\n",
    "np.random.seed(SEED)"
   ]
  },
  {
   "cell_type": "code",
   "execution_count": 3,
   "metadata": {},
   "outputs": [
    {
     "name": "stdout",
     "output_type": "stream",
     "text": [
      "cuda\n"
     ]
    }
   ],
   "source": [
    "# Set compute device\n",
    "device = torch.device('cuda' if torch.cuda.is_available() else 'cpu')\n",
    "#device = torch.device('cpu')\n",
    "print(device)"
   ]
  },
  {
   "cell_type": "code",
   "execution_count": 4,
   "metadata": {},
   "outputs": [
    {
     "name": "stdout",
     "output_type": "stream",
     "text": [
      "Mean =4090.28, Std = 2164.09\n"
     ]
    }
   ],
   "source": [
    "# get scalers, for CNN\n",
    "training_set = np.load('./data/train.npz')\n",
    "\n",
    "mean = round(training_set['x'][...,0].mean(), 2)\n",
    "std = round(training_set['x'][...,0].std(), 2)\n",
    "\n",
    "print(\"Mean ={}, Std = {}\".format(mean, std))"
   ]
  },
  {
   "cell_type": "code",
   "execution_count": 5,
   "metadata": {},
   "outputs": [],
   "source": [
    "# input data\n",
    "train_x = np.load('./lr/linear_model_train_input.npy', allow_pickle = True)\n",
    "\n",
    "# predictions\n",
    "train_y = np.load('./lr/linear_model_train_output.npy', allow_pickle = True)"
   ]
  },
  {
   "cell_type": "code",
   "execution_count": 6,
   "metadata": {},
   "outputs": [
    {
     "name": "stdout",
     "output_type": "stream",
     "text": [
      "Max = 13442.0, shape = (9157, 12, 150)\n",
      "Max = 14611.6357421875, shape = (9157, 12, 150)\n",
      "Max = 4.321317505279355, shape = (9157, 12, 150)\n",
      "Max = 4.861791610717773, shape = (9157, 12, 150)\n"
     ]
    }
   ],
   "source": [
    "print(\"Max = {}, shape = {}\".format(np.max(train_x), train_x.shape))\n",
    "print(\"Max = {}, shape = {}\".format(np.max(train_y), train_y.shape))\n",
    "\n",
    "train_x = (train_x - mean)/ std\n",
    "train_y = (train_y - mean)/ std\n",
    "\n",
    "print(\"Max = {}, shape = {}\".format(np.max(train_x), train_x.shape))\n",
    "print(\"Max = {}, shape = {}\".format(np.max(train_y), train_y.shape))"
   ]
  },
  {
   "cell_type": "code",
   "execution_count": 7,
   "metadata": {},
   "outputs": [],
   "source": [
    "# Define dataset\n",
    "class TR_dataset(Dataset):\n",
    "    def __init__(self, data_list, target_list):\n",
    "        self.data_list = data_list\n",
    "        self.target_list = target_list\n",
    "        \n",
    "    def __len__(self):\n",
    "        assert len(self.target_list) == len(self.data_list)\n",
    "        return len(self.data_list)\n",
    "\n",
    "    def __getitem__(self, key):\n",
    "        input_seq = self.data_list[key]\n",
    "        targets = self.target_list[key]\n",
    "        return [input_seq,targets]"
   ]
  },
  {
   "cell_type": "code",
   "execution_count": 8,
   "metadata": {},
   "outputs": [],
   "source": [
    "BATCH_SIZE = 12\n",
    "\n",
    "train_set = TR_dataset(train_x, train_y)\n",
    "\n",
    "train_dataloader = torch.utils.data.DataLoader(dataset=train_set,\n",
    "                                               batch_size=BATCH_SIZE,\n",
    "                                               collate_fn=None,\n",
    "                                               shuffle=False)"
   ]
  },
  {
   "cell_type": "code",
   "execution_count": 9,
   "metadata": {},
   "outputs": [],
   "source": [
    "# Instantiate a ResNet adaptation model here\n",
    "# See the model file for full model architecture\n",
    "model = new_cnn_model.ResNet_Adaptation_model()\n",
    "model = model.float().to(device)"
   ]
  },
  {
   "cell_type": "code",
   "execution_count": 10,
   "metadata": {},
   "outputs": [
    {
     "name": "stdout",
     "output_type": "stream",
     "text": [
      "<generator object Module.parameters at 0x00000267BF7C0AC0>\n"
     ]
    }
   ],
   "source": [
    "print(model.parameters())"
   ]
  },
  {
   "cell_type": "code",
   "execution_count": 11,
   "metadata": {},
   "outputs": [],
   "source": [
    "# MSE\n",
    "criterion = nn.MSELoss(reduction='mean')\n",
    "#criterion = nn.MSELoss()\n",
    "optimizer = optim.Adam(model.parameters(), lr=0.0001)"
   ]
  },
  {
   "cell_type": "code",
   "execution_count": 12,
   "metadata": {},
   "outputs": [],
   "source": [
    "def train(model, iterator, optimizer, criterion):\n",
    "    \n",
    "    model.train()\n",
    "    epoch_loss = 0\n",
    "    \n",
    "    for i, (batch_input, batch_target) in enumerate(iterator):\n",
    "        \n",
    "        batch_input = batch_input.float().to(device)\n",
    "        #print(batch_target.shape)\n",
    "        batch_target = torch.flatten(batch_target.float(), start_dim=1).to(device)\n",
    "        #print(batch_target.shape)\n",
    "        optimizer.zero_grad()\n",
    "        \n",
    "        output = model(batch_input)\n",
    "        \n",
    "        mse_loss = criterion(output, batch_target)\n",
    "        #RMSE, MSE not enough\n",
    "        loss = torch.sqrt(mse_loss)\n",
    "        \n",
    "        loss.backward()\n",
    "        optimizer.step()\n",
    "        \n",
    "        epoch_loss+=loss.cpu().detach().numpy()\n",
    "        #epoch_loss+=loss.item()\n",
    "        \n",
    "    # Average batch loss in an epoch\n",
    "    return epoch_loss/len(iterator) "
   ]
  },
  {
   "cell_type": "code",
   "execution_count": 13,
   "metadata": {},
   "outputs": [
    {
     "name": "stdout",
     "output_type": "stream",
     "text": [
      "Normalized RMSE Loss (Average Batch Loss)= 0.6708338226323353\n",
      "Normalized RMSE Loss (Average Batch Loss)= 0.6666515613881705\n",
      "Normalized RMSE Loss (Average Batch Loss)= 0.6661470785971088\n",
      "Normalized RMSE Loss (Average Batch Loss)= 0.6659474429815851\n",
      "Normalized RMSE Loss (Average Batch Loss)= 0.6658026172696608\n",
      "Normalized RMSE Loss (Average Batch Loss)= 0.6656472745366121\n",
      "Normalized RMSE Loss (Average Batch Loss)= 0.6655428763771556\n",
      "Normalized RMSE Loss (Average Batch Loss)= 0.6654561826695946\n",
      "Normalized RMSE Loss (Average Batch Loss)= 0.6653359615833971\n",
      "Normalized RMSE Loss (Average Batch Loss)= 0.6651998977542548\n",
      "Normalized RMSE Loss (Average Batch Loss)= 0.6651020046928167\n",
      "Normalized RMSE Loss (Average Batch Loss)= 0.6649486133097354\n",
      "Normalized RMSE Loss (Average Batch Loss)= 0.6647200094467682\n",
      "Normalized RMSE Loss (Average Batch Loss)= 0.6643473678390394\n",
      "Normalized RMSE Loss (Average Batch Loss)= 0.6640787378187579\n",
      "Normalized RMSE Loss (Average Batch Loss)= 0.6638289154824162\n",
      "Normalized RMSE Loss (Average Batch Loss)= 0.6635345200281493\n",
      "Normalized RMSE Loss (Average Batch Loss)= 0.6633801585092595\n",
      "Normalized RMSE Loss (Average Batch Loss)= 0.6631318446229265\n",
      "Normalized RMSE Loss (Average Batch Loss)= 0.6629403211683503\n",
      "Normalized RMSE Loss (Average Batch Loss)= 0.662752093444944\n",
      "Normalized RMSE Loss (Average Batch Loss)= 0.6625872121743507\n",
      "Normalized RMSE Loss (Average Batch Loss)= 0.6622619589897975\n",
      "Normalized RMSE Loss (Average Batch Loss)= 0.6619244976973658\n",
      "Normalized RMSE Loss (Average Batch Loss)= 0.6615528693685981\n",
      "Normalized RMSE Loss (Average Batch Loss)= 0.6610811257549606\n",
      "Normalized RMSE Loss (Average Batch Loss)= 0.6605064821336906\n",
      "Normalized RMSE Loss (Average Batch Loss)= 0.6598511809453914\n",
      "Normalized RMSE Loss (Average Batch Loss)= 0.6591937514655877\n",
      "Normalized RMSE Loss (Average Batch Loss)= 0.6583692897208698\n",
      "Normalized RMSE Loss (Average Batch Loss)= 0.65759133309594\n",
      "Normalized RMSE Loss (Average Batch Loss)= 0.656758767147963\n",
      "Normalized RMSE Loss (Average Batch Loss)= 0.6559749219898154\n",
      "Normalized RMSE Loss (Average Batch Loss)= 0.6550560480481042\n",
      "Normalized RMSE Loss (Average Batch Loss)= 0.6541815409485582\n",
      "Normalized RMSE Loss (Average Batch Loss)= 0.6533620223324961\n",
      "Normalized RMSE Loss (Average Batch Loss)= 0.6524421010185911\n",
      "Normalized RMSE Loss (Average Batch Loss)= 0.6516359972704143\n",
      "Normalized RMSE Loss (Average Batch Loss)= 0.6507608548820955\n",
      "Normalized RMSE Loss (Average Batch Loss)= 0.650104316429318\n",
      "Normalized RMSE Loss (Average Batch Loss)= 0.649273569203172\n",
      "Normalized RMSE Loss (Average Batch Loss)= 0.6484327626790052\n",
      "Normalized RMSE Loss (Average Batch Loss)= 0.6475750262512586\n",
      "Normalized RMSE Loss (Average Batch Loss)= 0.6467307388626468\n",
      "Normalized RMSE Loss (Average Batch Loss)= 0.6458955086494615\n",
      "Normalized RMSE Loss (Average Batch Loss)= 0.6449898242638373\n",
      "Normalized RMSE Loss (Average Batch Loss)= 0.6442124783524668\n",
      "Normalized RMSE Loss (Average Batch Loss)= 0.6433421917142669\n",
      "Normalized RMSE Loss (Average Batch Loss)= 0.6425947136591866\n",
      "Normalized RMSE Loss (Average Batch Loss)= 0.6418558087648522\n",
      "Best Loss =  0.6418558087648522\n"
     ]
    }
   ],
   "source": [
    "# No need to apply softmax or measure accuracy \n",
    "\n",
    "# For now only 350, later change to 1500\n",
    "num_epochs = 50\n",
    "#num_epochs = 2\n",
    "\n",
    "# Over total epochs\n",
    "loss_epoch =[]\n",
    "best_loss = float('inf')\n",
    "\n",
    "for i in range(num_epochs):\n",
    "    \n",
    "    # Loss is averaged in an epoch. so this is average batch loss per epoch\n",
    "    loss = train(model, train_dataloader, optimizer,criterion )\n",
    "    print(\"Normalized RMSE Loss (Average Batch Loss)=\", loss)\n",
    "    \n",
    "    if loss < best_loss:\n",
    "        best_loss = loss\n",
    "        # Save the entire model, not just state_dict\n",
    "        torch.save(model, './lr/best_model_CNN.pt')\n",
    "        \n",
    "    loss_epoch.append(round(loss,2))\n",
    "print(\"Best Loss = \", best_loss)"
   ]
  },
  {
   "cell_type": "code",
   "execution_count": 14,
   "metadata": {},
   "outputs": [
    {
     "data": {
      "image/png": "[encoded data removed]",
      "text/plain": [
       "<Figure size 1152x360 with 1 Axes>"
      ]
     },
     "metadata": {},
     "output_type": "display_data"
    }
   ],
   "source": [
    "# Train loss curve\n",
    "x = np.arange(num_epochs)\n",
    "fig, ax = plt.subplots(figsize=(16,5))\n",
    "ax.plot(x, loss_epoch)\n",
    "ax.set_xticks(x);"
   ]
  },
  {
   "cell_type": "code",
   "execution_count": 15,
   "metadata": {},
   "outputs": [],
   "source": [
    "# need to measure performance on the test set ?\n",
    "# on the other side, performance was 1870"
   ]
  },
  {
   "cell_type": "code",
   "execution_count": 45,
   "metadata": {},
   "outputs": [
    {
     "name": "stdout",
     "output_type": "stream",
     "text": [
      "(2616, 12, 150)\n",
      "(2616, 12, 150)\n",
      "3.4904832978295723\n"
     ]
    }
   ],
   "source": [
    "test_set = np.load('./data/test.npz')\n",
    "test_x = np.squeeze(test_set['x'])\n",
    "test_y = np.squeeze(test_set['y'])\n",
    "\n",
    "print(test_x.shape)\n",
    "print(test_y.shape)\n",
    "\n",
    "# normalize before feeding to resnet\n",
    "\n",
    "test_x = (test_x - mean)/ std\n",
    "test_y = (test_y - mean)/ std\n",
    "\n",
    "print(np.max(test_x))"
   ]
  },
  {
   "cell_type": "code",
   "execution_count": 46,
   "metadata": {},
   "outputs": [],
   "source": [
    "TEST_BATCH_SIZE = 1\n",
    "\n",
    "test_set = TR_dataset(test_x, test_y)\n",
    "\n",
    "test_dataloader = torch.utils.data.DataLoader(dataset=test_set,\n",
    "                                               batch_size=TEST_BATCH_SIZE,\n",
    "                                               collate_fn=None,\n",
    "                                               shuffle=False)"
   ]
  },
  {
   "cell_type": "code",
   "execution_count": 47,
   "metadata": {},
   "outputs": [
    {
     "name": "stdout",
     "output_type": "stream",
     "text": [
      "(2616, 12, 150)\n"
     ]
    }
   ],
   "source": [
    "trained_model = torch.load('./lr/best_model_CNN.pt')\n",
    "trained_model.eval()\n",
    "outputs = []\n",
    "\n",
    "with torch.no_grad():\n",
    "    for bi, (data, target) in enumerate(test_dataloader):\n",
    "        \n",
    "        data_batch, label_batch = data.float().to(device), target.float().to(device)\n",
    "        \n",
    "        output_batch = trained_model(data_batch)\n",
    "        \n",
    "        # add cpu() before detach if device changed to GPU\n",
    "        output_batch_numpy = output_batch.cpu().detach().numpy().reshape(12,-1)\n",
    "        \n",
    "        #print(output_batch_numpy.shape)\n",
    "        outputs.append(output_batch_numpy)\n",
    "outputs = np.array(outputs)\n",
    "print(outputs.shape)\n",
    "\n",
    "np.save('./lr/resnet_test_output.npy', outputs)"
   ]
  },
  {
   "cell_type": "code",
   "execution_count": 48,
   "metadata": {},
   "outputs": [],
   "source": [
    "def get_metrics(pred, truth):\n",
    "    \n",
    "    # assert both have same lengths\n",
    "    num_signals = len(pred)\n",
    "    #print(num_signals)\n",
    "    \n",
    "    number_of_nodes = 150\n",
    "    time_steps = 12\n",
    "\n",
    "    rmse_collect = []\n",
    "    rmse = 0.0\n",
    "    \n",
    "    for i in range(num_signals):\n",
    "        rmse_signal = np.sum(np.square(pred[i]- truth[i]))\n",
    "        \n",
    "        # save this to true rmse first\n",
    "        rmse+= rmse_signal\n",
    "        \n",
    "        # arrange to collect\n",
    "        rmse_signal = np.sqrt(rmse_signal/(time_steps*number_of_nodes))\n",
    "        \n",
    "        # collect it\n",
    "        rmse_collect.append(round(rmse_signal,2))\n",
    "        \n",
    "\n",
    "    rmse = np.sqrt(rmse/(num_signals*time_steps*number_of_nodes))\n",
    "    #print(rmse)\n",
    "    rmse_collect = np.array(rmse_collect)\n",
    "    \n",
    "    return rmse, rmse_collect"
   ]
  },
  {
   "cell_type": "code",
   "execution_count": 49,
   "metadata": {},
   "outputs": [
    {
     "name": "stdout",
     "output_type": "stream",
     "text": [
      "11644.0 (2616, 12, 150)\n",
      "Max = 5.560677528381348, shape = (2616, 12, 150)\n",
      "Max = 16124.0869140625, shape = (2616, 12, 150)\n"
     ]
    }
   ],
   "source": [
    "# load gts, check for norm\n",
    "gts = np.squeeze(np.load('./data/test.npz', allow_pickle = True)['y'])\n",
    "print(np.max(gts), gts.shape)\n",
    "\n",
    "# load resnet preds and denormalize\n",
    "f_preds = np.squeeze(np.load('./lr/resnet_test_output.npy', allow_pickle = True))\n",
    "print(\"Max = {}, shape = {}\".format(np.max(f_preds), f_preds.shape))\n",
    "\n",
    "f_preds = (f_preds*std) + mean\n",
    "print(\"Max = {}, shape = {}\".format(np.max(f_preds), f_preds.shape))"
   ]
  },
  {
   "cell_type": "code",
   "execution_count": 50,
   "metadata": {},
   "outputs": [
    {
     "name": "stdout",
     "output_type": "stream",
     "text": [
      "1971.4236516117278\n"
     ]
    }
   ],
   "source": [
    "rmse, collect = get_metrics(f_preds, gts )\n",
    "print(rmse)"
   ]
  },
  {
   "cell_type": "code",
   "execution_count": null,
   "metadata": {},
   "outputs": [],
   "source": []
  },
  {
   "cell_type": "code",
   "execution_count": null,
   "metadata": {},
   "outputs": [],
   "source": []
  }
 ],
 "metadata": {
  "kernelspec": {
   "display_name": "Python 3",
   "language": "python",
   "name": "python3"
  },
  "language_info": {
   "codemirror_mode": {
    "name": "ipython",
    "version": 3
   },
   "file_extension": ".py",
   "mimetype": "text/x-python",
   "name": "python",
   "nbconvert_exporter": "python",
   "pygments_lexer": "ipython3",
   "version": "3.8.5"
  }
 },
 "nbformat": 4,
 "nbformat_minor": 4
}
