{
 "cells": [
  {
   "cell_type": "code",
   "execution_count": 1,
   "metadata": {},
   "outputs": [],
   "source": [
    "import glob\n",
    "import random\n",
    "import numpy as np\n",
    "import matplotlib.pyplot as plt\n",
    "import seaborn as sns\n",
    "\n",
    "sns.set_palette(palette='magma', n_colors=3)\n",
    "sns.set_style(\"darkgrid\")\n",
    "\n",
    "import torch\n",
    "import torch.nn as nn\n",
    "import torch.optim as optim\n",
    "import torch.nn.functional as F\n",
    "from torch.utils.data import Dataset"
   ]
  },
  {
   "cell_type": "code",
   "execution_count": 2,
   "metadata": {},
   "outputs": [],
   "source": [
    "# Because we use shuffle\n",
    "SEED = 99\n",
    "torch.manual_seed(SEED)\n",
    "np.random.seed(SEED)"
   ]
  },
  {
   "cell_type": "code",
   "execution_count": 3,
   "metadata": {},
   "outputs": [
    {
     "name": "stdout",
     "output_type": "stream",
     "text": [
      "cuda\n"
     ]
    }
   ],
   "source": [
    "# Set compute device\n",
    "device = torch.device('cuda' if torch.cuda.is_available() else 'cpu')\n",
    "#device = torch.device('cpu')\n",
    "print(device)"
   ]
  },
  {
   "cell_type": "code",
   "execution_count": 4,
   "metadata": {},
   "outputs": [
    {
     "name": "stdout",
     "output_type": "stream",
     "text": [
      "Mean =4090.28, Std = 2164.09\n"
     ]
    }
   ],
   "source": [
    "# get scalers\n",
    "training_set = np.load('./data/train.npz')\n",
    "\n",
    "mean = round(training_set['x'][...,0].mean(), 2)\n",
    "std = round(training_set['x'][...,0].std(), 2)\n",
    "\n",
    "print(\"Mean ={}, Std = {}\".format(mean, std))"
   ]
  },
  {
   "cell_type": "code",
   "execution_count": 5,
   "metadata": {},
   "outputs": [
    {
     "name": "stdout",
     "output_type": "stream",
     "text": [
      "(9157, 12, 150)\n",
      "(9157, 12, 150)\n"
     ]
    }
   ],
   "source": [
    "# No need to flatten but need to change this to 150 x 12\n",
    "train_x = np.squeeze(training_set['x'])\n",
    "train_y =  np.squeeze(training_set['y'])\n",
    "\n",
    "print(train_x.shape)\n",
    "print(train_y.shape)"
   ]
  },
  {
   "cell_type": "code",
   "execution_count": 6,
   "metadata": {},
   "outputs": [
    {
     "name": "stdout",
     "output_type": "stream",
     "text": [
      "(150, 9157, 12)\n"
     ]
    }
   ],
   "source": [
    "n_nodes= 150\n",
    "train_x_new = []\n",
    "\n",
    "for i in range(n_nodes):\n",
    "    samples_collect = []\n",
    "    for j in range(len(train_x)):\n",
    "        for k in range(n_nodes):\n",
    "            if k==i:\n",
    "                samples_collect.append(train_x[j,:,k])\n",
    "    train_x_new.append(samples_collect)\n",
    "    \n",
    "train_x_new = np.array(train_x_new)\n",
    "print(train_x_new.shape)"
   ]
  },
  {
   "cell_type": "code",
   "execution_count": 7,
   "metadata": {},
   "outputs": [
    {
     "name": "stdout",
     "output_type": "stream",
     "text": [
      "294.0\n",
      "294.0\n"
     ]
    }
   ],
   "source": [
    "# verify: \n",
    "print(train_x[1005][5][112])\n",
    "print(train_x_new[112][1005][5])"
   ]
  },
  {
   "cell_type": "code",
   "execution_count": 8,
   "metadata": {},
   "outputs": [
    {
     "name": "stdout",
     "output_type": "stream",
     "text": [
      "(150, 9157, 12)\n"
     ]
    }
   ],
   "source": [
    "train_y_new = []\n",
    "\n",
    "for i in range(n_nodes):\n",
    "    samples_collect = []\n",
    "    for j in range(len(train_y)):\n",
    "        for k in range(n_nodes):\n",
    "            if k==i:\n",
    "                samples_collect.append(train_y[j,:,k])\n",
    "    train_y_new.append(samples_collect)\n",
    "    \n",
    "train_y_new = np.array(train_y_new)\n",
    "print(train_y_new.shape)"
   ]
  },
  {
   "cell_type": "code",
   "execution_count": 9,
   "metadata": {},
   "outputs": [
    {
     "name": "stdout",
     "output_type": "stream",
     "text": [
      "3058.0\n",
      "3058.0\n"
     ]
    }
   ],
   "source": [
    "# verify: \n",
    "print(train_y[1000][5][112])\n",
    "print(train_y_new[112][1000][5])"
   ]
  },
  {
   "cell_type": "code",
   "execution_count": 10,
   "metadata": {},
   "outputs": [
    {
     "name": "stdout",
     "output_type": "stream",
     "text": [
      "13442.0\n",
      "13442.0\n",
      "13442.0\n",
      "13442.0\n"
     ]
    }
   ],
   "source": [
    "# Data must be normalized, Duh!!\n",
    "print(np.max(train_x_new))\n",
    "print(np.max(train_y_new))\n",
    "\n",
    "#train_x_new = (train_x_new - mean)/ std\n",
    "#train_y_new = (train_y_new - mean)/ std\n",
    "#Normalizer = np.max(train_x_new)\n",
    "\n",
    "#train_x_new = train_x_new/ Normalizer\n",
    "#train_y_new = train_y_new/ Normalizer\n",
    "\n",
    "print(np.max(train_x_new))\n",
    "print(np.max(train_y_new))"
   ]
  },
  {
   "cell_type": "code",
   "execution_count": 11,
   "metadata": {},
   "outputs": [],
   "source": [
    "# Define dataset\n",
    "class TR_dataset(Dataset):\n",
    "    def __init__(self, data_list, target_list):\n",
    "        self.data_list = data_list\n",
    "        self.target_list = target_list\n",
    "        \n",
    "    def __len__(self):\n",
    "        assert len(self.target_list) == len(self.data_list)\n",
    "        return len(self.data_list)\n",
    "\n",
    "    def __getitem__(self, key):\n",
    "        input_seq = self.data_list[key]\n",
    "        targets = self.target_list[key]\n",
    "        return [input_seq,targets]"
   ]
  },
  {
   "cell_type": "code",
   "execution_count": 12,
   "metadata": {},
   "outputs": [],
   "source": [
    "# model\n",
    "class linearRegression(torch.nn.Module):\n",
    "    def __init__(self, inputSize, outputSize):\n",
    "        super(linearRegression, self).__init__()\n",
    "        self.linear = torch.nn.Linear(inputSize, outputSize)\n",
    "\n",
    "    def forward(self, x):\n",
    "        out = self.linear(x)\n",
    "        return out"
   ]
  },
  {
   "cell_type": "code",
   "execution_count": 13,
   "metadata": {},
   "outputs": [],
   "source": [
    "inputDim = 12     \n",
    "outputDim = 12   \n",
    "\n",
    "n_models = 150\n",
    "models=[]\n",
    "\n",
    "for i in range(n_models):\n",
    "    models.append(linearRegression(inputDim, outputDim))"
   ]
  },
  {
   "cell_type": "code",
   "execution_count": 14,
   "metadata": {},
   "outputs": [],
   "source": [
    "#models[10].eval()"
   ]
  },
  {
   "cell_type": "code",
   "execution_count": 15,
   "metadata": {},
   "outputs": [],
   "source": [
    "BATCH_SIZE = 1\n",
    "\n",
    "data_loaders =[]\n",
    "for i in range(n_models):\n",
    "    train_set = TR_dataset(train_x_new[i], train_y_new[i])\n",
    "    \n",
    "    train_dataloader = torch.utils.data.DataLoader(dataset=train_set,\n",
    "                                               batch_size=BATCH_SIZE,\n",
    "                                               collate_fn=None,\n",
    "                                               shuffle=True)\n",
    "    data_loaders.append(train_dataloader)"
   ]
  },
  {
   "cell_type": "code",
   "execution_count": 16,
   "metadata": {},
   "outputs": [],
   "source": [
    "learningRate = 0.001 \n",
    "criterion = nn.MSELoss(reduction='mean')"
   ]
  },
  {
   "cell_type": "code",
   "execution_count": 17,
   "metadata": {},
   "outputs": [],
   "source": [
    "def bulk_train(epochs, model_list, iterator_list, criterion, learningRate):\n",
    "    \n",
    "    losses_collect=[]\n",
    "    for i in range(len(model_list)):\n",
    "        \n",
    "        print(\"xxxxxxxxxxxxxxxxxxxx\")\n",
    "        print(\"For model:\", i + 1)\n",
    "        print(\"xxxxxxxxxxxxxxxxxxxx\")\n",
    "        \n",
    "        model = model_list[i]\n",
    "        model.to(device)\n",
    "        \n",
    "        optimizer = optim.Adam(model.parameters(), lr=learningRate)\n",
    "        \n",
    "        model_name = \"model_\" + str(i)\n",
    "        save_location =  \"./lr/best_models/best_{}.pt\".format(model_name)\n",
    "        \n",
    "        epoch_loss = 0\n",
    "        epoch_losses_collect=[]\n",
    "        best_loss = float('inf')\n",
    "        \n",
    "        for j in range(epochs):\n",
    "\n",
    "            model.train()\n",
    "\n",
    "            for k, (batch_input, batch_target) in enumerate(iterator_list[i]):\n",
    "                \n",
    "                batch_input = batch_input.float().to(device)\n",
    "                batch_target = batch_target.float().to(device)\n",
    "                \n",
    "                optimizer.zero_grad()\n",
    "                \n",
    "                output = model(batch_input)\n",
    "                \n",
    "                mse_loss = criterion(output, batch_target)\n",
    "                \n",
    "                loss = torch.sqrt(mse_loss)\n",
    "                \n",
    "                loss.backward()\n",
    "                \n",
    "                optimizer.step()\n",
    "                \n",
    "                epoch_loss+=loss.cpu().detach().numpy()\n",
    "                \n",
    "            avg_batch_loss = epoch_loss/len(iterator_list[i]) \n",
    "            epoch_losses_collect.append(avg_batch_loss)\n",
    "                    \n",
    "            if avg_batch_loss < best_loss:\n",
    "                best_loss = avg_batch_loss\n",
    "                torch.save(model_list[i], save_location)\n",
    "        \n",
    "            print(\"Unnormalized average batch loss per epoch:\", avg_batch_loss)\n",
    "        \n",
    "        # num_models x num_epochs\n",
    "        losses_collect.append(epoch_losses_collect)\n",
    "    return losses_collect"
   ]
  },
  {
   "cell_type": "code",
   "execution_count": 18,
   "metadata": {},
   "outputs": [
    {
     "name": "stdout",
     "output_type": "stream",
     "text": [
      "xxxxxxxxxxxxxxxxxxxx\n",
      "For model: 1\n",
      "xxxxxxxxxxxxxxxxxxxx\n",
      "Unnormalized average batch loss per epoch: 1767.328753969718\n",
      "xxxxxxxxxxxxxxxxxxxx\n",
      "For model: 2\n",
      "xxxxxxxxxxxxxxxxxxxx\n",
      "Unnormalized average batch loss per epoch: 1534.7292645046045\n",
      "xxxxxxxxxxxxxxxxxxxx\n",
      "For model: 3\n",
      "xxxxxxxxxxxxxxxxxxxx\n",
      "Unnormalized average batch loss per epoch: 1791.1448036652928\n",
      "xxxxxxxxxxxxxxxxxxxx\n",
      "For model: 4\n",
      "xxxxxxxxxxxxxxxxxxxx\n",
      "Unnormalized average batch loss per epoch: 1852.550530593937\n",
      "xxxxxxxxxxxxxxxxxxxx\n",
      "For model: 5\n",
      "xxxxxxxxxxxxxxxxxxxx\n",
      "Unnormalized average batch loss per epoch: 1969.2594626571356\n",
      "xxxxxxxxxxxxxxxxxxxx\n",
      "For model: 6\n",
      "xxxxxxxxxxxxxxxxxxxx\n",
      "Unnormalized average batch loss per epoch: 1844.5483298389702\n",
      "xxxxxxxxxxxxxxxxxxxx\n",
      "For model: 7\n",
      "xxxxxxxxxxxxxxxxxxxx\n",
      "Unnormalized average batch loss per epoch: 1926.5924461450563\n",
      "xxxxxxxxxxxxxxxxxxxx\n",
      "For model: 8\n",
      "xxxxxxxxxxxxxxxxxxxx\n",
      "Unnormalized average batch loss per epoch: 1647.9912301955349\n",
      "xxxxxxxxxxxxxxxxxxxx\n",
      "For model: 9\n",
      "xxxxxxxxxxxxxxxxxxxx\n",
      "Unnormalized average batch loss per epoch: 1413.9419364783394\n",
      "xxxxxxxxxxxxxxxxxxxx\n",
      "For model: 10\n",
      "xxxxxxxxxxxxxxxxxxxx\n",
      "Unnormalized average batch loss per epoch: 2965.950559543811\n",
      "xxxxxxxxxxxxxxxxxxxx\n",
      "For model: 11\n",
      "xxxxxxxxxxxxxxxxxxxx\n",
      "Unnormalized average batch loss per epoch: 1502.1018022922783\n",
      "xxxxxxxxxxxxxxxxxxxx\n",
      "For model: 12\n",
      "xxxxxxxxxxxxxxxxxxxx\n",
      "Unnormalized average batch loss per epoch: 1287.6905047183502\n",
      "xxxxxxxxxxxxxxxxxxxx\n",
      "For model: 13\n",
      "xxxxxxxxxxxxxxxxxxxx\n",
      "Unnormalized average batch loss per epoch: 1006.0804040510347\n",
      "xxxxxxxxxxxxxxxxxxxx\n",
      "For model: 14\n",
      "xxxxxxxxxxxxxxxxxxxx\n",
      "Unnormalized average batch loss per epoch: 944.0799085269839\n",
      "xxxxxxxxxxxxxxxxxxxx\n",
      "For model: 15\n",
      "xxxxxxxxxxxxxxxxxxxx\n",
      "Unnormalized average batch loss per epoch: 572.3081152760672\n",
      "xxxxxxxxxxxxxxxxxxxx\n",
      "For model: 16\n",
      "xxxxxxxxxxxxxxxxxxxx\n",
      "Unnormalized average batch loss per epoch: 873.0377380231121\n",
      "xxxxxxxxxxxxxxxxxxxx\n",
      "For model: 17\n",
      "xxxxxxxxxxxxxxxxxxxx\n",
      "Unnormalized average batch loss per epoch: 2122.5651453444566\n",
      "xxxxxxxxxxxxxxxxxxxx\n",
      "For model: 18\n",
      "xxxxxxxxxxxxxxxxxxxx\n",
      "Unnormalized average batch loss per epoch: 2286.6631042090544\n",
      "xxxxxxxxxxxxxxxxxxxx\n",
      "For model: 19\n",
      "xxxxxxxxxxxxxxxxxxxx\n",
      "Unnormalized average batch loss per epoch: 1765.0002912667376\n",
      "xxxxxxxxxxxxxxxxxxxx\n",
      "For model: 20\n",
      "xxxxxxxxxxxxxxxxxxxx\n",
      "Unnormalized average batch loss per epoch: 1843.9203599190573\n",
      "xxxxxxxxxxxxxxxxxxxx\n",
      "For model: 21\n",
      "xxxxxxxxxxxxxxxxxxxx\n",
      "Unnormalized average batch loss per epoch: 1703.2618377158979\n",
      "xxxxxxxxxxxxxxxxxxxx\n",
      "For model: 22\n",
      "xxxxxxxxxxxxxxxxxxxx\n",
      "Unnormalized average batch loss per epoch: 1224.9558485730372\n",
      "xxxxxxxxxxxxxxxxxxxx\n",
      "For model: 23\n",
      "xxxxxxxxxxxxxxxxxxxx\n",
      "Unnormalized average batch loss per epoch: 844.0555061531129\n",
      "xxxxxxxxxxxxxxxxxxxx\n",
      "For model: 24\n",
      "xxxxxxxxxxxxxxxxxxxx\n",
      "Unnormalized average batch loss per epoch: 1289.5510142412693\n",
      "xxxxxxxxxxxxxxxxxxxx\n",
      "For model: 25\n",
      "xxxxxxxxxxxxxxxxxxxx\n",
      "Unnormalized average batch loss per epoch: 1868.6329478653051\n",
      "xxxxxxxxxxxxxxxxxxxx\n",
      "For model: 26\n",
      "xxxxxxxxxxxxxxxxxxxx\n",
      "Unnormalized average batch loss per epoch: 1575.8618012449426\n",
      "xxxxxxxxxxxxxxxxxxxx\n",
      "For model: 27\n",
      "xxxxxxxxxxxxxxxxxxxx\n",
      "Unnormalized average batch loss per epoch: 1906.474937316488\n",
      "xxxxxxxxxxxxxxxxxxxx\n",
      "For model: 28\n",
      "xxxxxxxxxxxxxxxxxxxx\n",
      "Unnormalized average batch loss per epoch: 1949.0231344554834\n",
      "xxxxxxxxxxxxxxxxxxxx\n",
      "For model: 29\n",
      "xxxxxxxxxxxxxxxxxxxx\n",
      "Unnormalized average batch loss per epoch: 1383.2388085055666\n",
      "xxxxxxxxxxxxxxxxxxxx\n",
      "For model: 30\n",
      "xxxxxxxxxxxxxxxxxxxx\n",
      "Unnormalized average batch loss per epoch: 1478.5388620253068\n",
      "xxxxxxxxxxxxxxxxxxxx\n",
      "For model: 31\n",
      "xxxxxxxxxxxxxxxxxxxx\n",
      "Unnormalized average batch loss per epoch: 1462.9607707564455\n",
      "xxxxxxxxxxxxxxxxxxxx\n",
      "For model: 32\n",
      "xxxxxxxxxxxxxxxxxxxx\n",
      "Unnormalized average batch loss per epoch: 1805.2589639028608\n",
      "xxxxxxxxxxxxxxxxxxxx\n",
      "For model: 33\n",
      "xxxxxxxxxxxxxxxxxxxx\n",
      "Unnormalized average batch loss per epoch: 1896.3572539566671\n",
      "xxxxxxxxxxxxxxxxxxxx\n",
      "For model: 34\n",
      "xxxxxxxxxxxxxxxxxxxx\n",
      "Unnormalized average batch loss per epoch: 1918.650976146245\n",
      "xxxxxxxxxxxxxxxxxxxx\n",
      "For model: 35\n",
      "xxxxxxxxxxxxxxxxxxxx\n",
      "Unnormalized average batch loss per epoch: 1863.3169273800552\n",
      "xxxxxxxxxxxxxxxxxxxx\n",
      "For model: 36\n",
      "xxxxxxxxxxxxxxxxxxxx\n",
      "Unnormalized average batch loss per epoch: 2215.111849671643\n",
      "xxxxxxxxxxxxxxxxxxxx\n",
      "For model: 37\n",
      "xxxxxxxxxxxxxxxxxxxx\n",
      "Unnormalized average batch loss per epoch: 1552.8072373532984\n",
      "xxxxxxxxxxxxxxxxxxxx\n",
      "For model: 38\n",
      "xxxxxxxxxxxxxxxxxxxx\n",
      "Unnormalized average batch loss per epoch: 1749.2469884562704\n",
      "xxxxxxxxxxxxxxxxxxxx\n",
      "For model: 39\n",
      "xxxxxxxxxxxxxxxxxxxx\n",
      "Unnormalized average batch loss per epoch: 1160.9595250963605\n",
      "xxxxxxxxxxxxxxxxxxxx\n",
      "For model: 40\n",
      "xxxxxxxxxxxxxxxxxxxx\n",
      "Unnormalized average batch loss per epoch: 1703.5716219480555\n",
      "xxxxxxxxxxxxxxxxxxxx\n",
      "For model: 41\n",
      "xxxxxxxxxxxxxxxxxxxx\n",
      "Unnormalized average batch loss per epoch: 1751.0743848520087\n",
      "xxxxxxxxxxxxxxxxxxxx\n",
      "For model: 42\n",
      "xxxxxxxxxxxxxxxxxxxx\n",
      "Unnormalized average batch loss per epoch: 2054.997399223805\n",
      "xxxxxxxxxxxxxxxxxxxx\n",
      "For model: 43\n",
      "xxxxxxxxxxxxxxxxxxxx\n",
      "Unnormalized average batch loss per epoch: 1345.4157058500862\n",
      "xxxxxxxxxxxxxxxxxxxx\n",
      "For model: 44\n",
      "xxxxxxxxxxxxxxxxxxxx\n",
      "Unnormalized average batch loss per epoch: 1528.6826299417614\n",
      "xxxxxxxxxxxxxxxxxxxx\n",
      "For model: 45\n",
      "xxxxxxxxxxxxxxxxxxxx\n",
      "Unnormalized average batch loss per epoch: 1475.6958695499477\n",
      "xxxxxxxxxxxxxxxxxxxx\n",
      "For model: 46\n",
      "xxxxxxxxxxxxxxxxxxxx\n",
      "Unnormalized average batch loss per epoch: 839.6867487850025\n",
      "xxxxxxxxxxxxxxxxxxxx\n",
      "For model: 47\n",
      "xxxxxxxxxxxxxxxxxxxx\n",
      "Unnormalized average batch loss per epoch: 981.3419468942084\n",
      "xxxxxxxxxxxxxxxxxxxx\n",
      "For model: 48\n",
      "xxxxxxxxxxxxxxxxxxxx\n",
      "Unnormalized average batch loss per epoch: 1230.7250418826015\n",
      "xxxxxxxxxxxxxxxxxxxx\n",
      "For model: 49\n",
      "xxxxxxxxxxxxxxxxxxxx\n",
      "Unnormalized average batch loss per epoch: 1431.8129790288283\n",
      "xxxxxxxxxxxxxxxxxxxx\n",
      "For model: 50\n",
      "xxxxxxxxxxxxxxxxxxxx\n",
      "Unnormalized average batch loss per epoch: 2149.1003472475136\n",
      "xxxxxxxxxxxxxxxxxxxx\n",
      "For model: 51\n",
      "xxxxxxxxxxxxxxxxxxxx\n",
      "Unnormalized average batch loss per epoch: 1762.3838604873636\n",
      "xxxxxxxxxxxxxxxxxxxx\n",
      "For model: 52\n",
      "xxxxxxxxxxxxxxxxxxxx\n",
      "Unnormalized average batch loss per epoch: 1721.2438200271272\n",
      "xxxxxxxxxxxxxxxxxxxx\n",
      "For model: 53\n",
      "xxxxxxxxxxxxxxxxxxxx\n",
      "Unnormalized average batch loss per epoch: 1716.321846459049\n",
      "xxxxxxxxxxxxxxxxxxxx\n",
      "For model: 54\n",
      "xxxxxxxxxxxxxxxxxxxx\n",
      "Unnormalized average batch loss per epoch: 1690.2610046963277\n",
      "xxxxxxxxxxxxxxxxxxxx\n",
      "For model: 55\n",
      "xxxxxxxxxxxxxxxxxxxx\n",
      "Unnormalized average batch loss per epoch: 1858.3478780715006\n",
      "xxxxxxxxxxxxxxxxxxxx\n",
      "For model: 56\n",
      "xxxxxxxxxxxxxxxxxxxx\n",
      "Unnormalized average batch loss per epoch: 338.12886683909903\n",
      "xxxxxxxxxxxxxxxxxxxx\n",
      "For model: 57\n",
      "xxxxxxxxxxxxxxxxxxxx\n",
      "Unnormalized average batch loss per epoch: 747.3779751072677\n",
      "xxxxxxxxxxxxxxxxxxxx\n",
      "For model: 58\n",
      "xxxxxxxxxxxxxxxxxxxx\n",
      "Unnormalized average batch loss per epoch: 1016.4513822136663\n",
      "xxxxxxxxxxxxxxxxxxxx\n",
      "For model: 59\n",
      "xxxxxxxxxxxxxxxxxxxx\n",
      "Unnormalized average batch loss per epoch: 2103.5539187799704\n",
      "xxxxxxxxxxxxxxxxxxxx\n",
      "For model: 60\n",
      "xxxxxxxxxxxxxxxxxxxx\n",
      "Unnormalized average batch loss per epoch: 2027.6035018242692\n",
      "xxxxxxxxxxxxxxxxxxxx\n",
      "For model: 61\n",
      "xxxxxxxxxxxxxxxxxxxx\n",
      "Unnormalized average batch loss per epoch: 2089.3296578409268\n",
      "xxxxxxxxxxxxxxxxxxxx\n",
      "For model: 62\n",
      "xxxxxxxxxxxxxxxxxxxx\n",
      "Unnormalized average batch loss per epoch: 2448.5207231552226\n",
      "xxxxxxxxxxxxxxxxxxxx\n",
      "For model: 63\n",
      "xxxxxxxxxxxxxxxxxxxx\n",
      "Unnormalized average batch loss per epoch: 1239.859364743601\n",
      "xxxxxxxxxxxxxxxxxxxx\n",
      "For model: 64\n",
      "xxxxxxxxxxxxxxxxxxxx\n",
      "Unnormalized average batch loss per epoch: 1689.8859760983876\n",
      "xxxxxxxxxxxxxxxxxxxx\n",
      "For model: 65\n",
      "xxxxxxxxxxxxxxxxxxxx\n",
      "Unnormalized average batch loss per epoch: 1836.2703886166455\n",
      "xxxxxxxxxxxxxxxxxxxx\n",
      "For model: 66\n",
      "xxxxxxxxxxxxxxxxxxxx\n",
      "Unnormalized average batch loss per epoch: 1657.3600276485859\n",
      "xxxxxxxxxxxxxxxxxxxx\n",
      "For model: 67\n",
      "xxxxxxxxxxxxxxxxxxxx\n",
      "Unnormalized average batch loss per epoch: 1831.1496558085767\n",
      "xxxxxxxxxxxxxxxxxxxx\n",
      "For model: 68\n",
      "xxxxxxxxxxxxxxxxxxxx\n",
      "Unnormalized average batch loss per epoch: 1135.5883191450203\n",
      "xxxxxxxxxxxxxxxxxxxx\n",
      "For model: 69\n",
      "xxxxxxxxxxxxxxxxxxxx\n",
      "Unnormalized average batch loss per epoch: 1809.929624626857\n",
      "xxxxxxxxxxxxxxxxxxxx\n",
      "For model: 70\n",
      "xxxxxxxxxxxxxxxxxxxx\n",
      "Unnormalized average batch loss per epoch: 1801.518693654626\n",
      "xxxxxxxxxxxxxxxxxxxx\n",
      "For model: 71\n",
      "xxxxxxxxxxxxxxxxxxxx\n"
     ]
    },
    {
     "name": "stdout",
     "output_type": "stream",
     "text": [
      "Unnormalized average batch loss per epoch: 1703.041416771016\n",
      "xxxxxxxxxxxxxxxxxxxx\n",
      "For model: 72\n",
      "xxxxxxxxxxxxxxxxxxxx\n",
      "Unnormalized average batch loss per epoch: 1810.5346448697728\n",
      "xxxxxxxxxxxxxxxxxxxx\n",
      "For model: 73\n",
      "xxxxxxxxxxxxxxxxxxxx\n",
      "Unnormalized average batch loss per epoch: 506.37947217535736\n",
      "xxxxxxxxxxxxxxxxxxxx\n",
      "For model: 74\n",
      "xxxxxxxxxxxxxxxxxxxx\n",
      "Unnormalized average batch loss per epoch: 1284.9664533697805\n",
      "xxxxxxxxxxxxxxxxxxxx\n",
      "For model: 75\n",
      "xxxxxxxxxxxxxxxxxxxx\n",
      "Unnormalized average batch loss per epoch: 1234.9066866076616\n",
      "xxxxxxxxxxxxxxxxxxxx\n",
      "For model: 76\n",
      "xxxxxxxxxxxxxxxxxxxx\n",
      "Unnormalized average batch loss per epoch: 754.6109282200001\n",
      "xxxxxxxxxxxxxxxxxxxx\n",
      "For model: 77\n",
      "xxxxxxxxxxxxxxxxxxxx\n",
      "Unnormalized average batch loss per epoch: 885.6797581400116\n",
      "xxxxxxxxxxxxxxxxxxxx\n",
      "For model: 78\n",
      "xxxxxxxxxxxxxxxxxxxx\n",
      "Unnormalized average batch loss per epoch: 1822.6433818467622\n",
      "xxxxxxxxxxxxxxxxxxxx\n",
      "For model: 79\n",
      "xxxxxxxxxxxxxxxxxxxx\n",
      "Unnormalized average batch loss per epoch: 1332.012642122531\n",
      "xxxxxxxxxxxxxxxxxxxx\n",
      "For model: 80\n",
      "xxxxxxxxxxxxxxxxxxxx\n",
      "Unnormalized average batch loss per epoch: 1709.392256912243\n",
      "xxxxxxxxxxxxxxxxxxxx\n",
      "For model: 81\n",
      "xxxxxxxxxxxxxxxxxxxx\n",
      "Unnormalized average batch loss per epoch: 1701.4096810087908\n",
      "xxxxxxxxxxxxxxxxxxxx\n",
      "For model: 82\n",
      "xxxxxxxxxxxxxxxxxxxx\n",
      "Unnormalized average batch loss per epoch: 1621.354904951325\n",
      "xxxxxxxxxxxxxxxxxxxx\n",
      "For model: 83\n",
      "xxxxxxxxxxxxxxxxxxxx\n",
      "Unnormalized average batch loss per epoch: 1796.6089391388643\n",
      "xxxxxxxxxxxxxxxxxxxx\n",
      "For model: 84\n",
      "xxxxxxxxxxxxxxxxxxxx\n",
      "Unnormalized average batch loss per epoch: 1481.1051321734737\n",
      "xxxxxxxxxxxxxxxxxxxx\n",
      "For model: 85\n",
      "xxxxxxxxxxxxxxxxxxxx\n",
      "Unnormalized average batch loss per epoch: 1396.7906097698722\n",
      "xxxxxxxxxxxxxxxxxxxx\n",
      "For model: 86\n",
      "xxxxxxxxxxxxxxxxxxxx\n",
      "Unnormalized average batch loss per epoch: 1001.6707918401029\n",
      "xxxxxxxxxxxxxxxxxxxx\n",
      "For model: 87\n",
      "xxxxxxxxxxxxxxxxxxxx\n",
      "Unnormalized average batch loss per epoch: 991.4718629229442\n",
      "xxxxxxxxxxxxxxxxxxxx\n",
      "For model: 88\n",
      "xxxxxxxxxxxxxxxxxxxx\n",
      "Unnormalized average batch loss per epoch: 1513.7818464591824\n",
      "xxxxxxxxxxxxxxxxxxxx\n",
      "For model: 89\n",
      "xxxxxxxxxxxxxxxxxxxx\n",
      "Unnormalized average batch loss per epoch: 1458.7785128745188\n",
      "xxxxxxxxxxxxxxxxxxxx\n",
      "For model: 90\n",
      "xxxxxxxxxxxxxxxxxxxx\n",
      "Unnormalized average batch loss per epoch: 1586.238617769037\n",
      "xxxxxxxxxxxxxxxxxxxx\n",
      "For model: 91\n",
      "xxxxxxxxxxxxxxxxxxxx\n",
      "Unnormalized average batch loss per epoch: 1467.8591874612007\n",
      "xxxxxxxxxxxxxxxxxxxx\n",
      "For model: 92\n",
      "xxxxxxxxxxxxxxxxxxxx\n",
      "Unnormalized average batch loss per epoch: 890.7960828543881\n",
      "xxxxxxxxxxxxxxxxxxxx\n",
      "For model: 93\n",
      "xxxxxxxxxxxxxxxxxxxx\n",
      "Unnormalized average batch loss per epoch: 976.7003879078458\n",
      "xxxxxxxxxxxxxxxxxxxx\n",
      "For model: 94\n",
      "xxxxxxxxxxxxxxxxxxxx\n",
      "Unnormalized average batch loss per epoch: 1199.4051305627777\n",
      "xxxxxxxxxxxxxxxxxxxx\n",
      "For model: 95\n",
      "xxxxxxxxxxxxxxxxxxxx\n",
      "Unnormalized average batch loss per epoch: 1243.967341906381\n",
      "xxxxxxxxxxxxxxxxxxxx\n",
      "For model: 96\n",
      "xxxxxxxxxxxxxxxxxxxx\n",
      "Unnormalized average batch loss per epoch: 1440.8454434548037\n",
      "xxxxxxxxxxxxxxxxxxxx\n",
      "For model: 97\n",
      "xxxxxxxxxxxxxxxxxxxx\n",
      "Unnormalized average batch loss per epoch: 1441.5528916378423\n",
      "xxxxxxxxxxxxxxxxxxxx\n",
      "For model: 98\n",
      "xxxxxxxxxxxxxxxxxxxx\n",
      "Unnormalized average batch loss per epoch: 1522.489359128393\n",
      "xxxxxxxxxxxxxxxxxxxx\n",
      "For model: 99\n",
      "xxxxxxxxxxxxxxxxxxxx\n",
      "Unnormalized average batch loss per epoch: 917.5806289544543\n",
      "xxxxxxxxxxxxxxxxxxxx\n",
      "For model: 100\n",
      "xxxxxxxxxxxxxxxxxxxx\n",
      "Unnormalized average batch loss per epoch: 1136.2542144527104\n",
      "xxxxxxxxxxxxxxxxxxxx\n",
      "For model: 101\n",
      "xxxxxxxxxxxxxxxxxxxx\n",
      "Unnormalized average batch loss per epoch: 1494.000000374096\n",
      "xxxxxxxxxxxxxxxxxxxx\n",
      "For model: 102\n",
      "xxxxxxxxxxxxxxxxxxxx\n",
      "Unnormalized average batch loss per epoch: 1310.5649484524213\n",
      "xxxxxxxxxxxxxxxxxxxx\n",
      "For model: 103\n",
      "xxxxxxxxxxxxxxxxxxxx\n",
      "Unnormalized average batch loss per epoch: 1604.1628661972734\n",
      "xxxxxxxxxxxxxxxxxxxx\n",
      "For model: 104\n",
      "xxxxxxxxxxxxxxxxxxxx\n",
      "Unnormalized average batch loss per epoch: 1611.885252180742\n",
      "xxxxxxxxxxxxxxxxxxxx\n",
      "For model: 105\n",
      "xxxxxxxxxxxxxxxxxxxx\n",
      "Unnormalized average batch loss per epoch: 1337.8583160705334\n",
      "xxxxxxxxxxxxxxxxxxxx\n",
      "For model: 106\n",
      "xxxxxxxxxxxxxxxxxxxx\n",
      "Unnormalized average batch loss per epoch: 1041.55659203583\n",
      "xxxxxxxxxxxxxxxxxxxx\n",
      "For model: 107\n",
      "xxxxxxxxxxxxxxxxxxxx\n",
      "Unnormalized average batch loss per epoch: 1460.0099464925574\n",
      "xxxxxxxxxxxxxxxxxxxx\n",
      "For model: 108\n",
      "xxxxxxxxxxxxxxxxxxxx\n",
      "Unnormalized average batch loss per epoch: 875.6557069324153\n",
      "xxxxxxxxxxxxxxxxxxxx\n",
      "For model: 109\n",
      "xxxxxxxxxxxxxxxxxxxx\n",
      "Unnormalized average batch loss per epoch: 1795.156607693377\n",
      "xxxxxxxxxxxxxxxxxxxx\n",
      "For model: 110\n",
      "xxxxxxxxxxxxxxxxxxxx\n",
      "Unnormalized average batch loss per epoch: 2067.955060451666\n",
      "xxxxxxxxxxxxxxxxxxxx\n",
      "For model: 111\n",
      "xxxxxxxxxxxxxxxxxxxx\n",
      "Unnormalized average batch loss per epoch: 1697.3558390143398\n",
      "xxxxxxxxxxxxxxxxxxxx\n",
      "For model: 112\n",
      "xxxxxxxxxxxxxxxxxxxx\n",
      "Unnormalized average batch loss per epoch: 1668.513627446712\n",
      "xxxxxxxxxxxxxxxxxxxx\n",
      "For model: 113\n",
      "xxxxxxxxxxxxxxxxxxxx\n",
      "Unnormalized average batch loss per epoch: 1539.3767419431595\n",
      "xxxxxxxxxxxxxxxxxxxx\n",
      "For model: 114\n",
      "xxxxxxxxxxxxxxxxxxxx\n",
      "Unnormalized average batch loss per epoch: 1954.419532506763\n",
      "xxxxxxxxxxxxxxxxxxxx\n",
      "For model: 115\n",
      "xxxxxxxxxxxxxxxxxxxx\n",
      "Unnormalized average batch loss per epoch: 2091.1756407764915\n",
      "xxxxxxxxxxxxxxxxxxxx\n",
      "For model: 116\n",
      "xxxxxxxxxxxxxxxxxxxx\n",
      "Unnormalized average batch loss per epoch: 2658.7623659912724\n",
      "xxxxxxxxxxxxxxxxxxxx\n",
      "For model: 117\n",
      "xxxxxxxxxxxxxxxxxxxx\n",
      "Unnormalized average batch loss per epoch: 1396.8766500046645\n",
      "xxxxxxxxxxxxxxxxxxxx\n",
      "For model: 118\n",
      "xxxxxxxxxxxxxxxxxxxx\n",
      "Unnormalized average batch loss per epoch: 1999.9597107430168\n",
      "xxxxxxxxxxxxxxxxxxxx\n",
      "For model: 119\n",
      "xxxxxxxxxxxxxxxxxxxx\n",
      "Unnormalized average batch loss per epoch: 1352.0927056944422\n",
      "xxxxxxxxxxxxxxxxxxxx\n",
      "For model: 120\n",
      "xxxxxxxxxxxxxxxxxxxx\n",
      "Unnormalized average batch loss per epoch: 1271.6396900871455\n",
      "xxxxxxxxxxxxxxxxxxxx\n",
      "For model: 121\n",
      "xxxxxxxxxxxxxxxxxxxx\n",
      "Unnormalized average batch loss per epoch: 2226.9724401690833\n",
      "xxxxxxxxxxxxxxxxxxxx\n",
      "For model: 122\n",
      "xxxxxxxxxxxxxxxxxxxx\n",
      "Unnormalized average batch loss per epoch: 2143.795572330666\n",
      "xxxxxxxxxxxxxxxxxxxx\n",
      "For model: 123\n",
      "xxxxxxxxxxxxxxxxxxxx\n",
      "Unnormalized average batch loss per epoch: 2267.832851180372\n",
      "xxxxxxxxxxxxxxxxxxxx\n",
      "For model: 124\n",
      "xxxxxxxxxxxxxxxxxxxx\n",
      "Unnormalized average batch loss per epoch: 1980.4605813071732\n",
      "xxxxxxxxxxxxxxxxxxxx\n",
      "For model: 125\n",
      "xxxxxxxxxxxxxxxxxxxx\n",
      "Unnormalized average batch loss per epoch: 1847.3244435259435\n",
      "xxxxxxxxxxxxxxxxxxxx\n",
      "For model: 126\n",
      "xxxxxxxxxxxxxxxxxxxx\n",
      "Unnormalized average batch loss per epoch: 1719.0996999795798\n",
      "xxxxxxxxxxxxxxxxxxxx\n",
      "For model: 127\n",
      "xxxxxxxxxxxxxxxxxxxx\n",
      "Unnormalized average batch loss per epoch: 2018.3399090760138\n",
      "xxxxxxxxxxxxxxxxxxxx\n",
      "For model: 128\n",
      "xxxxxxxxxxxxxxxxxxxx\n",
      "Unnormalized average batch loss per epoch: 2575.3044030569754\n",
      "xxxxxxxxxxxxxxxxxxxx\n",
      "For model: 129\n",
      "xxxxxxxxxxxxxxxxxxxx\n",
      "Unnormalized average batch loss per epoch: 1740.5508263814888\n",
      "xxxxxxxxxxxxxxxxxxxx\n",
      "For model: 130\n",
      "xxxxxxxxxxxxxxxxxxxx\n",
      "Unnormalized average batch loss per epoch: 2561.2538571842533\n",
      "xxxxxxxxxxxxxxxxxxxx\n",
      "For model: 131\n",
      "xxxxxxxxxxxxxxxxxxxx\n",
      "Unnormalized average batch loss per epoch: 2655.558381831632\n",
      "xxxxxxxxxxxxxxxxxxxx\n",
      "For model: 132\n",
      "xxxxxxxxxxxxxxxxxxxx\n",
      "Unnormalized average batch loss per epoch: 2571.9979262327515\n",
      "xxxxxxxxxxxxxxxxxxxx\n",
      "For model: 133\n",
      "xxxxxxxxxxxxxxxxxxxx\n",
      "Unnormalized average batch loss per epoch: 2769.3707395401325\n",
      "xxxxxxxxxxxxxxxxxxxx\n",
      "For model: 134\n",
      "xxxxxxxxxxxxxxxxxxxx\n",
      "Unnormalized average batch loss per epoch: 2782.0821362035404\n",
      "xxxxxxxxxxxxxxxxxxxx\n",
      "For model: 135\n",
      "xxxxxxxxxxxxxxxxxxxx\n",
      "Unnormalized average batch loss per epoch: 2617.6534949095735\n",
      "xxxxxxxxxxxxxxxxxxxx\n",
      "For model: 136\n",
      "xxxxxxxxxxxxxxxxxxxx\n",
      "Unnormalized average batch loss per epoch: 2024.5119476951572\n",
      "xxxxxxxxxxxxxxxxxxxx\n",
      "For model: 137\n",
      "xxxxxxxxxxxxxxxxxxxx\n",
      "Unnormalized average batch loss per epoch: 3077.3388485893406\n",
      "xxxxxxxxxxxxxxxxxxxx\n",
      "For model: 138\n",
      "xxxxxxxxxxxxxxxxxxxx\n",
      "Unnormalized average batch loss per epoch: 1968.578999155146\n",
      "xxxxxxxxxxxxxxxxxxxx\n",
      "For model: 139\n",
      "xxxxxxxxxxxxxxxxxxxx\n",
      "Unnormalized average batch loss per epoch: 2480.276042702027\n",
      "xxxxxxxxxxxxxxxxxxxx\n",
      "For model: 140\n",
      "xxxxxxxxxxxxxxxxxxxx\n",
      "Unnormalized average batch loss per epoch: 2159.3012901906873\n",
      "xxxxxxxxxxxxxxxxxxxx\n",
      "For model: 141\n",
      "xxxxxxxxxxxxxxxxxxxx\n"
     ]
    },
    {
     "name": "stdout",
     "output_type": "stream",
     "text": [
      "Unnormalized average batch loss per epoch: 1846.8489043412933\n",
      "xxxxxxxxxxxxxxxxxxxx\n",
      "For model: 142\n",
      "xxxxxxxxxxxxxxxxxxxx\n",
      "Unnormalized average batch loss per epoch: 2045.0254129641205\n",
      "xxxxxxxxxxxxxxxxxxxx\n",
      "For model: 143\n",
      "xxxxxxxxxxxxxxxxxxxx\n",
      "Unnormalized average batch loss per epoch: 1782.8903160482641\n",
      "xxxxxxxxxxxxxxxxxxxx\n",
      "For model: 144\n",
      "xxxxxxxxxxxxxxxxxxxx\n",
      "Unnormalized average batch loss per epoch: 2222.5748027831924\n",
      "xxxxxxxxxxxxxxxxxxxx\n",
      "For model: 145\n",
      "xxxxxxxxxxxxxxxxxxxx\n",
      "Unnormalized average batch loss per epoch: 2168.666854128536\n",
      "xxxxxxxxxxxxxxxxxxxx\n",
      "For model: 146\n",
      "xxxxxxxxxxxxxxxxxxxx\n",
      "Unnormalized average batch loss per epoch: 1110.2051202295597\n",
      "xxxxxxxxxxxxxxxxxxxx\n",
      "For model: 147\n",
      "xxxxxxxxxxxxxxxxxxxx\n",
      "Unnormalized average batch loss per epoch: 1773.0874594563127\n",
      "xxxxxxxxxxxxxxxxxxxx\n",
      "For model: 148\n",
      "xxxxxxxxxxxxxxxxxxxx\n",
      "Unnormalized average batch loss per epoch: 1212.8563672813823\n",
      "xxxxxxxxxxxxxxxxxxxx\n",
      "For model: 149\n",
      "xxxxxxxxxxxxxxxxxxxx\n",
      "Unnormalized average batch loss per epoch: 1384.8504808356543\n",
      "xxxxxxxxxxxxxxxxxxxx\n",
      "For model: 150\n",
      "xxxxxxxxxxxxxxxxxxxx\n",
      "Unnormalized average batch loss per epoch: 1986.403089321062\n"
     ]
    }
   ],
   "source": [
    "num_epochs = 1\n",
    "losses = bulk_train(num_epochs, models, data_loaders, criterion, learningRate)"
   ]
  },
  {
   "cell_type": "code",
   "execution_count": 19,
   "metadata": {},
   "outputs": [
    {
     "data": {
      "image/png": "[encoded data removed]",
      "text/plain": [
       "<Figure size 1152x1440 with 4 Axes>"
      ]
     },
     "metadata": {},
     "output_type": "display_data"
    }
   ],
   "source": [
    "# plot a few\n",
    "# models 0 , 50, 100, 150\n",
    "\n",
    "index_list = [0, 50, 100, 149]\n",
    "\n",
    "x = np.arange(num_epochs)\n",
    "fig, ax = plt.subplots(4,1,figsize=(16,5*4))\n",
    "\n",
    "for i in range(len(index_list)):\n",
    "    ax[i].plot(x, losses[index_list[i]])"
   ]
  },
  {
   "cell_type": "code",
   "execution_count": 20,
   "metadata": {},
   "outputs": [
    {
     "name": "stdout",
     "output_type": "stream",
     "text": [
      "150\n",
      "150\n"
     ]
    }
   ],
   "source": [
    "# load all pretrained models\n",
    "paths = glob.glob('./lr/best_models/*.pt')\n",
    "print(len(paths))\n",
    "\n",
    "trained_models = []\n",
    "for i in paths:\n",
    "    trained_models.append(torch.load(i))\n",
    "    \n",
    "print(len(trained_models))"
   ]
  },
  {
   "cell_type": "code",
   "execution_count": 21,
   "metadata": {},
   "outputs": [
    {
     "name": "stdout",
     "output_type": "stream",
     "text": [
      "(2616, 12, 150) 11644.0\n",
      "(2616, 12, 150) 11644.0\n"
     ]
    }
   ],
   "source": [
    "test_set = np.load('./data/test.npz')\n",
    "\n",
    "test_x = np.squeeze(test_set['x'])\n",
    "test_y = np.squeeze(test_set['y'])\n",
    "\n",
    "print(test_x.shape, np.max(test_x))\n",
    "print(test_y.shape, np.max(test_y))"
   ]
  },
  {
   "cell_type": "code",
   "execution_count": 22,
   "metadata": {},
   "outputs": [
    {
     "name": "stdout",
     "output_type": "stream",
     "text": [
      "11644.0 (150, 2616, 12)\n"
     ]
    }
   ],
   "source": [
    "test_x_new =[]\n",
    "for i in range(n_nodes):\n",
    "    samples_collect = []\n",
    "    for j in range(len(test_x)):\n",
    "        for k in range(n_nodes):\n",
    "            if k==i:\n",
    "                samples_collect.append(test_x[j,:,k])\n",
    "    test_x_new.append(samples_collect)\n",
    "    \n",
    "test_x_new = np.array(test_x_new)\n",
    "#test_x_new = test_x_new / Normalizer\n",
    "\n",
    "#test_x_new = (test_x_new- mean)/ std\n",
    "\n",
    "print(np.max(test_x_new), test_x_new.shape)"
   ]
  },
  {
   "cell_type": "code",
   "execution_count": 23,
   "metadata": {},
   "outputs": [
    {
     "name": "stdout",
     "output_type": "stream",
     "text": [
      "11644.0 (150, 2616, 12)\n"
     ]
    }
   ],
   "source": [
    "test_y_new =[]\n",
    "for i in range(n_nodes):\n",
    "    samples_collect = []\n",
    "    for j in range(len(test_y)):\n",
    "        for k in range(n_nodes):\n",
    "            if k==i:\n",
    "                samples_collect.append(test_y[j,:,k])\n",
    "    test_y_new.append(samples_collect)\n",
    "    \n",
    "test_y_new = np.array(test_y_new)\n",
    "#test_y_new = test_y_new / Normalizer\n",
    "\n",
    "#test_y_new = (test_y_new- mean)/ std\n",
    "\n",
    "print(np.max(test_y_new),test_y_new.shape)"
   ]
  },
  {
   "cell_type": "code",
   "execution_count": 24,
   "metadata": {},
   "outputs": [],
   "source": [
    "TEST_BATCH_SIZE = 1\n",
    "\n",
    "test_data_loaders =[]\n",
    "for i in range(n_nodes):\n",
    "    \n",
    "    test_set = TR_dataset(test_x_new[i], test_y_new[i])\n",
    "\n",
    "    test_dataloader = torch.utils.data.DataLoader(dataset=test_set,\n",
    "                                                   batch_size=TEST_BATCH_SIZE,\n",
    "                                                   collate_fn=None,\n",
    "                                                   shuffle=False)\n",
    "    \n",
    "    test_data_loaders.append(test_dataloader)"
   ]
  },
  {
   "cell_type": "code",
   "execution_count": 25,
   "metadata": {},
   "outputs": [
    {
     "name": "stdout",
     "output_type": "stream",
     "text": [
      "(150, 2616, 12)\n"
     ]
    }
   ],
   "source": [
    "outputs = []\n",
    "\n",
    "for i in range(len(trained_models)):\n",
    "    \n",
    "    new_model = trained_models[i].eval()\n",
    "    new_model.to(device)\n",
    "    \n",
    "    output_model = []\n",
    "    \n",
    "    with torch.no_grad():\n",
    "        \n",
    "        # enumerate the iterator correponding to the model\n",
    "        for bi, (data, target) in enumerate(test_data_loaders[i]):\n",
    "            \n",
    "            data_batch, label_batch = data.float().to(device), target.float().to(device)\n",
    "            \n",
    "            output_batch = new_model(data_batch)\n",
    "            \n",
    "            output_batch_numpy = output_batch.cpu().detach().numpy()\n",
    "            \n",
    "            #print(output_batch_numpy.shape)\n",
    "            \n",
    "            output_model.append(np.squeeze(output_batch_numpy))\n",
    "            \n",
    "    outputs.append(output_model)\n",
    "    \n",
    "outputs = np.array(outputs)\n",
    "print(outputs.shape)\n",
    "np.save('./lr/linear_model_output.npy', outputs)"
   ]
  },
  {
   "cell_type": "code",
   "execution_count": 26,
   "metadata": {},
   "outputs": [],
   "source": [
    "def get_metrics(pred, truth):\n",
    "    \n",
    "    # assert both have same lengths\n",
    "    num_signals = len(pred)\n",
    "    #print(num_signals)\n",
    "    \n",
    "    number_of_nodes = 150\n",
    "    time_steps = 12\n",
    "\n",
    "    rmse_collect = []\n",
    "    rmse = 0.0\n",
    "    \n",
    "    for i in range(num_signals):\n",
    "        rmse_signal = np.sum(np.square(pred[i]- truth[i]))\n",
    "        \n",
    "        # save this to true rmse first\n",
    "        rmse+= rmse_signal\n",
    "        \n",
    "        # arrange to collect\n",
    "        rmse_signal = np.sqrt(rmse_signal/(time_steps*number_of_nodes))\n",
    "        \n",
    "        # collect it\n",
    "        rmse_collect.append(round(rmse_signal,2))\n",
    "        \n",
    "\n",
    "    rmse = np.sqrt(rmse/(num_signals*time_steps*number_of_nodes))\n",
    "    #print(rmse)\n",
    "    rmse_collect = np.array(rmse_collect)\n",
    "    \n",
    "    return rmse, rmse_collect"
   ]
  },
  {
   "cell_type": "code",
   "execution_count": 27,
   "metadata": {},
   "outputs": [
    {
     "name": "stdout",
     "output_type": "stream",
     "text": [
      "Shape = (150, 2616, 12), max = 13225.5400390625, mean = 4160.63134765625\n",
      "(2616, 12, 150)\n"
     ]
    }
   ],
   "source": [
    "outputs_lr = np.load('./lr/linear_model_output.npy', allow_pickle = True) \n",
    "print(\"Shape = {}, max = {}, mean = {}\".format(outputs_lr.shape, np.max(outputs_lr), np.mean(outputs_lr)))\n",
    "\n",
    "# output in the same shape as gts\n",
    "outputs_lr_new=[]\n",
    "num_samples = outputs_lr.shape[1]\n",
    "\n",
    "for i in range(num_samples):\n",
    "    sample_collect=[]\n",
    "    for j in range(len(outputs_lr)):\n",
    "        for k in range(num_samples):\n",
    "            if i==k:\n",
    "                selected = outputs_lr[j,i,:]\n",
    "                sample_collect.append(selected)\n",
    "                \n",
    "    sample_collect = np.array(sample_collect).T.reshape((12,150), order='C')\n",
    "    #print(sample_collect.shape)        \n",
    "        \n",
    "    outputs_lr_new.append(sample_collect)\n",
    "    \n",
    "outputs_lr_new = np.array(outputs_lr_new)\n",
    "print(outputs_lr_new.shape)"
   ]
  },
  {
   "cell_type": "code",
   "execution_count": 28,
   "metadata": {},
   "outputs": [
    {
     "name": "stdout",
     "output_type": "stream",
     "text": [
      "2923.329\n",
      "2923.329\n"
     ]
    }
   ],
   "source": [
    "# verify\n",
    "print(outputs_lr[88][1000][5])\n",
    "print(outputs_lr_new[1000][5][88])"
   ]
  },
  {
   "cell_type": "code",
   "execution_count": 29,
   "metadata": {},
   "outputs": [
    {
     "name": "stdout",
     "output_type": "stream",
     "text": [
      "13225.54\n"
     ]
    }
   ],
   "source": [
    "#outputs_lr_new = (outputs_lr_new*std) + mean\n",
    "\n",
    "#outputs_lr_new = outputs_lr_new*Normalizer\n",
    "\n",
    "print(np.max(outputs_lr_new))"
   ]
  },
  {
   "cell_type": "code",
   "execution_count": 30,
   "metadata": {},
   "outputs": [
    {
     "name": "stdout",
     "output_type": "stream",
     "text": [
      "Shape = (2616, 12, 150), max = 11644.0\n"
     ]
    }
   ],
   "source": [
    "# load gts again\n",
    "gts  = np.squeeze(np.load('./data/test.npz')['y']) # No need to denormalize\n",
    "print(\"Shape = {}, max = {}\".format(gts.shape, np.max(gts)))"
   ]
  },
  {
   "cell_type": "code",
   "execution_count": 45,
   "metadata": {},
   "outputs": [
    {
     "name": "stdout",
     "output_type": "stream",
     "text": [
      "1870.433355758631\n"
     ]
    }
   ],
   "source": [
    "rmse_lr, rmse_lr_collect = get_metrics(outputs_lr_new, gts)\n",
    "print(rmse_lr)\n",
    "np.save('./lr/original_dstr.npy', rmse_lr_collect)"
   ]
  },
  {
   "cell_type": "code",
   "execution_count": 32,
   "metadata": {},
   "outputs": [
    {
     "name": "stdout",
     "output_type": "stream",
     "text": [
      "1743.5212538226301\n"
     ]
    }
   ],
   "source": [
    "print(np.mean(rmse_lr_collect))"
   ]
  },
  {
   "cell_type": "code",
   "execution_count": 33,
   "metadata": {},
   "outputs": [],
   "source": [
    "sample = 1000\n",
    "node = 110"
   ]
  },
  {
   "cell_type": "code",
   "execution_count": 34,
   "metadata": {},
   "outputs": [
    {
     "data": {
      "image/png": "[encoded data removed]",
      "text/plain": [
       "<Figure size 1152x360 with 1 Axes>"
      ]
     },
     "metadata": {},
     "output_type": "display_data"
    }
   ],
   "source": [
    "x_total = np.arange(0,24,1)\n",
    "x_inpt = np.arange(0,12,1)\n",
    "x_gt = np.arange(12,24,1)\n",
    "\n",
    "fig, ax = plt.subplots(figsize=(16,5))\n",
    "\n",
    "ax.plot(x_inpt, test_x[sample,:,node])\n",
    "ax.plot(x_gt, test_y[sample,:,node])\n",
    "ax.plot(x_gt, outputs_lr_new[sample,:,node])\n",
    "\n",
    "ax.set_xticks(x_total);"
   ]
  },
  {
   "cell_type": "code",
   "execution_count": 35,
   "metadata": {},
   "outputs": [
    {
     "data": {
      "text/plain": [
       "1966.5"
      ]
     },
     "execution_count": 35,
     "metadata": {},
     "output_type": "execute_result"
    }
   ],
   "source": [
    "rmse_lr_collect[1000]"
   ]
  },
  {
   "cell_type": "code",
   "execution_count": 36,
   "metadata": {},
   "outputs": [
    {
     "name": "stdout",
     "output_type": "stream",
     "text": [
      "torch.Size([12, 12]) tensor([[ 1.6783e-01, -2.1094e-01,  8.7525e-02, -7.4152e-02,  7.2879e-02,\n",
      "          4.8910e-02, -1.9927e-02,  4.1251e-02, -1.4945e-01, -1.8784e-01,\n",
      "          2.7078e-01,  9.3922e-01],\n",
      "        [ 7.5856e-02,  1.6702e-04, -5.4923e-02,  7.2412e-02,  1.5682e-02,\n",
      "         -1.4594e-01,  1.6873e-01,  9.2330e-02, -3.0122e-01, -7.0626e-02,\n",
      "          1.8609e-01,  9.2493e-01],\n",
      "        [ 1.9339e-01, -9.3384e-02, -7.1732e-02,  2.1764e-01, -1.8222e-01,\n",
      "          2.6580e-02,  8.4441e-02,  6.1475e-02, -2.6324e-01, -1.5583e-02,\n",
      "          2.2655e-01,  7.5128e-01],\n",
      "        [ 3.5371e-01, -2.1681e-01,  9.5982e-02,  5.6503e-02, -2.3144e-01,\n",
      "          2.2613e-01,  9.9782e-02, -2.2927e-01, -7.9468e-02,  4.6256e-02,\n",
      "          2.8158e-01,  5.4410e-01],\n",
      "        [ 2.4272e-01,  1.7967e-01,  2.1094e-02, -1.9290e-01,  9.8665e-02,\n",
      "         -1.0086e-01,  1.9323e-01, -1.0749e-01, -9.1733e-02,  4.3958e-02,\n",
      "          1.9078e-01,  5.0470e-01],\n",
      "        [ 3.5592e-01,  1.2775e-01,  2.0596e-01, -2.0338e-01, -1.1805e-01,\n",
      "          2.8929e-02, -2.1585e-02,  7.1006e-02,  1.1463e-01, -1.2829e-01,\n",
      "          1.4030e-01,  4.4641e-01],\n",
      "        [ 5.5531e-01,  7.9532e-02,  7.4580e-03,  3.9380e-02, -2.8199e-01,\n",
      "          1.2997e-01, -4.6639e-02,  7.4183e-02, -1.6418e-02, -2.1665e-02,\n",
      "          2.0266e-01,  2.9105e-01],\n",
      "        [ 6.9520e-01,  6.7850e-02, -4.8962e-02,  5.3550e-02, -2.1254e-01,\n",
      "         -6.2260e-03,  7.9408e-02, -1.1022e-01,  1.3170e-01,  5.5324e-02,\n",
      "         -1.9753e-02,  3.2654e-01],\n",
      "        [ 6.6584e-01,  3.7125e-01, -1.2425e-01, -2.3476e-01, -1.6493e-01,\n",
      "          1.6523e-01, -2.8802e-03, -5.5535e-02,  7.1343e-02,  4.2379e-02,\n",
      "         -2.7370e-02,  2.7850e-01],\n",
      "        [ 8.3260e-01,  2.4538e-01, -1.0586e-01, -1.6350e-01, -2.0960e-01,\n",
      "          6.7944e-02,  1.3215e-01, -5.1903e-02, -5.9706e-02,  4.0524e-02,\n",
      "          1.4785e-01,  8.4164e-02],\n",
      "        [ 1.0493e+00, -1.0882e-01,  8.9932e-02, -1.2401e-01, -1.4437e-01,\n",
      "          1.2642e-02,  5.9454e-02, -7.4402e-04, -1.1433e-01,  2.0517e-01,\n",
      "         -4.0234e-02,  7.2335e-02],\n",
      "        [ 8.9042e-01,  2.7376e-01, -2.3669e-01, -8.5984e-03, -8.7967e-02,\n",
      "          8.7055e-03,  3.8615e-02,  1.4136e-01, -2.0974e-01,  6.5522e-02,\n",
      "          3.4784e-03,  6.2574e-02]], device='cuda:0')\n",
      "torch.Size([12]) tensor([0.6095, 1.2172, 1.1791, 1.2277, 1.6364, 1.6101, 1.4892, 1.5339, 1.5457,\n",
      "        1.0813, 1.2944, 0.4793], device='cuda:0')\n"
     ]
    }
   ],
   "source": [
    "[w, b] = trained_models[10].parameters()\n",
    "print(w.shape, w.data)\n",
    "print(b.shape, b.data)"
   ]
  },
  {
   "cell_type": "code",
   "execution_count": 37,
   "metadata": {},
   "outputs": [],
   "source": [
    "# To train the CNN, preds on training data itself."
   ]
  },
  {
   "cell_type": "code",
   "execution_count": 38,
   "metadata": {},
   "outputs": [],
   "source": [
    "final_outputs = []\n",
    "\n",
    "for i in range(len(trained_models)):\n",
    "    \n",
    "    new_model = trained_models[i].eval()\n",
    "    new_model.to(device)\n",
    "    \n",
    "    single_model_output = []\n",
    "    \n",
    "    with torch.no_grad():\n",
    "        \n",
    "        # enumerate the iterator correponding to the model\n",
    "        for bi, (data, target) in enumerate(data_loaders[i]):\n",
    "            \n",
    "            data_batch, label_batch = data.float().to(device), target.float().to(device)\n",
    "            \n",
    "            output_batch = new_model(data_batch)\n",
    "            \n",
    "            output_batch_numpy = output_batch.cpu().detach().numpy()\n",
    "            \n",
    "            #print(output_batch_numpy.shape)\n",
    "            \n",
    "            single_model_output.append(np.squeeze(output_batch_numpy))\n",
    "            \n",
    "    final_outputs.append(single_model_output)\n",
    "    \n",
    "final_outputs = np.array(final_outputs)"
   ]
  },
  {
   "cell_type": "code",
   "execution_count": 39,
   "metadata": {},
   "outputs": [
    {
     "name": "stdout",
     "output_type": "stream",
     "text": [
      "(150, 9157, 12)\n",
      "(9157, 12, 150)\n"
     ]
    }
   ],
   "source": [
    "print(final_outputs.shape)\n",
    "final_outputs_new=[]\n",
    "\n",
    "num_samples = final_outputs.shape[1]\n",
    "\n",
    "for i in range(num_samples):\n",
    "    sample_collect=[]\n",
    "    for j in range(len(final_outputs)):\n",
    "        for k in range(num_samples):\n",
    "            if i==k:\n",
    "                selected = final_outputs[j,i,:]\n",
    "                sample_collect.append(selected)\n",
    "                \n",
    "    sample_collect = np.array(sample_collect).T.reshape((12,150), order='C')\n",
    "      \n",
    "    final_outputs_new.append(sample_collect)\n",
    "    \n",
    "final_outputs_new = np.array(final_outputs_new)\n",
    "print(final_outputs_new.shape)"
   ]
  },
  {
   "cell_type": "code",
   "execution_count": 42,
   "metadata": {},
   "outputs": [
    {
     "name": "stdout",
     "output_type": "stream",
     "text": [
      "6725.113\n",
      "6725.113\n"
     ]
    }
   ],
   "source": [
    "# verify\n",
    "print(final_outputs[140][2000][5])\n",
    "print(final_outputs_new[2000][5][140])"
   ]
  },
  {
   "cell_type": "code",
   "execution_count": 40,
   "metadata": {},
   "outputs": [
    {
     "name": "stdout",
     "output_type": "stream",
     "text": [
      "(150, 9157, 12)\n",
      "(9157, 12, 150)\n"
     ]
    }
   ],
   "source": [
    "print(train_x_new.shape)\n",
    "train_x_new_new=[]\n",
    "\n",
    "num_samples = train_x_new.shape[1]\n",
    "\n",
    "for i in range(num_samples):\n",
    "    sample_collect=[]\n",
    "    for j in range(len(train_x_new)):\n",
    "        for k in range(num_samples):\n",
    "            if i==k:\n",
    "                selected = train_x_new[j,i,:]\n",
    "                sample_collect.append(selected)\n",
    "                \n",
    "    sample_collect = np.array(sample_collect).T.reshape((12,150), order='C')       \n",
    "        \n",
    "    train_x_new_new.append(sample_collect)\n",
    "    \n",
    "train_x_new_new = np.array(train_x_new_new)\n",
    "print(train_x_new_new.shape)"
   ]
  },
  {
   "cell_type": "code",
   "execution_count": 43,
   "metadata": {},
   "outputs": [
    {
     "name": "stdout",
     "output_type": "stream",
     "text": [
      "7378.0\n",
      "7378.0\n"
     ]
    }
   ],
   "source": [
    "# verify\n",
    "print(train_x_new[140][2000][5])\n",
    "print(train_x_new_new[2000][5][140])"
   ]
  },
  {
   "cell_type": "code",
   "execution_count": 41,
   "metadata": {},
   "outputs": [],
   "source": [
    "#save output and training data in the easy format for CNN\n",
    "np.save('./lr/linear_model_train_input.npy', train_x_new_new)\n",
    "np.save('./lr/linear_model_train_output.npy', final_outputs_new)"
   ]
  },
  {
   "cell_type": "code",
   "execution_count": null,
   "metadata": {},
   "outputs": [],
   "source": []
  }
 ],
 "metadata": {
  "kernelspec": {
   "display_name": "Python 3",
   "language": "python",
   "name": "python3"
  },
  "language_info": {
   "codemirror_mode": {
    "name": "ipython",
    "version": 3
   },
   "file_extension": ".py",
   "mimetype": "text/x-python",
   "name": "python",
   "nbconvert_exporter": "python",
   "pygments_lexer": "ipython3",
   "version": "3.8.5"
  }
 },
 "nbformat": 4,
 "nbformat_minor": 4
}
