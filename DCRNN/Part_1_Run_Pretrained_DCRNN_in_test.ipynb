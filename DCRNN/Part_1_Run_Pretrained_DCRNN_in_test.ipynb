{
 "cells": [
  {
   "cell_type": "code",
   "execution_count": 1,
   "metadata": {},
   "outputs": [
    {
     "name": "stdout",
     "output_type": "stream",
     "text": [
      "Python 3.6.5\n",
      "Name: tensorflow\n",
      "Version: 1.8.0\n",
      "Summary: TensorFlow helps the tensors flow\n",
      "Home-page: https://www.tensorflow.org/\n",
      "Author: Google Inc.\n",
      "Author-email: opensource@google.com\n",
      "License: Apache 2.0\n",
      "Location: c:\\users\\b\\desktop\\direct_dcrnn\\env\\lib\\site-packages\n",
      "Requires: six, tensorboard, grpcio, gast, protobuf, absl-py, termcolor, astor, numpy, wheel\n",
      "Required-by: \n"
     ]
    }
   ],
   "source": [
    "!python -V\n",
    "!pip show tensorflow"
   ]
  },
  {
   "cell_type": "code",
   "execution_count": 2,
   "metadata": {},
   "outputs": [
    {
     "name": "stderr",
     "output_type": "stream",
     "text": [
      "c:\\users\\b\\desktop\\adversarial_traffic_flow\\adversarial_gc_grnn\\env\\lib\\site-packages\\tensorflow\\python\\framework\\dtypes.py:519: FutureWarning: Passing (type, 1) or '1type' as a synonym of type is deprecated; in a future version of numpy, it will be understood as (type, (1,)) / '(1,)type'.\n",
      "  _np_qint8 = np.dtype([(\"qint8\", np.int8, 1)])\n",
      "c:\\users\\b\\desktop\\adversarial_traffic_flow\\adversarial_gc_grnn\\env\\lib\\site-packages\\tensorflow\\python\\framework\\dtypes.py:520: FutureWarning: Passing (type, 1) or '1type' as a synonym of type is deprecated; in a future version of numpy, it will be understood as (type, (1,)) / '(1,)type'.\n",
      "  _np_quint8 = np.dtype([(\"quint8\", np.uint8, 1)])\n",
      "c:\\users\\b\\desktop\\adversarial_traffic_flow\\adversarial_gc_grnn\\env\\lib\\site-packages\\tensorflow\\python\\framework\\dtypes.py:521: FutureWarning: Passing (type, 1) or '1type' as a synonym of type is deprecated; in a future version of numpy, it will be understood as (type, (1,)) / '(1,)type'.\n",
      "  _np_qint16 = np.dtype([(\"qint16\", np.int16, 1)])\n",
      "c:\\users\\b\\desktop\\adversarial_traffic_flow\\adversarial_gc_grnn\\env\\lib\\site-packages\\tensorflow\\python\\framework\\dtypes.py:522: FutureWarning: Passing (type, 1) or '1type' as a synonym of type is deprecated; in a future version of numpy, it will be understood as (type, (1,)) / '(1,)type'.\n",
      "  _np_quint16 = np.dtype([(\"quint16\", np.uint16, 1)])\n",
      "c:\\users\\b\\desktop\\adversarial_traffic_flow\\adversarial_gc_grnn\\env\\lib\\site-packages\\tensorflow\\python\\framework\\dtypes.py:523: FutureWarning: Passing (type, 1) or '1type' as a synonym of type is deprecated; in a future version of numpy, it will be understood as (type, (1,)) / '(1,)type'.\n",
      "  _np_qint32 = np.dtype([(\"qint32\", np.int32, 1)])\n",
      "c:\\users\\b\\desktop\\adversarial_traffic_flow\\adversarial_gc_grnn\\env\\lib\\site-packages\\tensorflow\\python\\framework\\dtypes.py:528: FutureWarning: Passing (type, 1) or '1type' as a synonym of type is deprecated; in a future version of numpy, it will be understood as (type, (1,)) / '(1,)type'.\n",
      "  np_resource = np.dtype([(\"resource\", np.ubyte, 1)])\n"
     ]
    }
   ],
   "source": [
    "import io\n",
    "import os\n",
    "import sys\n",
    "\n",
    "import argparse\n",
    "import numpy as np\n",
    "\n",
    "import glob\n",
    "import yaml\n",
    "\n",
    "import tensorflow as tf\n",
    "from lib.utils import load_graph_data\n",
    "from model.dcrnn_supervisor import DCRNNSupervisor"
   ]
  },
  {
   "cell_type": "code",
   "execution_count": 3,
   "metadata": {},
   "outputs": [
    {
     "name": "stdout",
     "output_type": "stream",
     "text": [
      "The model being used for predictions is: ./best_model\\models-462.8403-63427\n"
     ]
    }
   ],
   "source": [
    "best_model_dir = './best_model/'\n",
    "name_splits = glob.glob(best_model_dir+'*.index')[0].split('.')\n",
    "model_filename = '.'+name_splits[1] + '.'+ name_splits[2]\n",
    "print(\"The model being used for predictions is:\",model_filename)"
   ]
  },
  {
   "cell_type": "code",
   "execution_count": 4,
   "metadata": {},
   "outputs": [],
   "source": [
    "#print(\"Both below are required only in training:\")\n",
    "predictions_file =\"GCGRNN_volume_150.csv\"\n",
    "#print(\"The predictions at the end of this notebook will be available in :\", predictions_file)\n",
    "\n",
    "ground_truths_file = \"y_truth_GCGRNN_volume_150.csv\"\n",
    "#print(\"The ground truth of those predictions will be available in :\", ground_truths_file)"
   ]
  },
  {
   "cell_type": "code",
   "execution_count": 5,
   "metadata": {},
   "outputs": [],
   "source": [
    "# Configuration YAML for the DCRNN model\n",
    "\n",
    "configuration = { 'base_dir': 'results',\n",
    "                  'log_level':'INFO',\n",
    "                  'data':{ 'batch_size': 32,\n",
    "                           'dataset_dir': './data/',\n",
    "                           'graph_pkl_filename': './helper_files/adj_mat_volume.pkl',\n",
    "                           'test_batch_size': 64,\n",
    "                           'val_batch_size': 64},\n",
    "                    'model':{'cl_decay_steps': 2000,\n",
    "                             'filter_type': 'dual_random_walk',\n",
    "                             'horizon': 12,\n",
    "                             'input_dim': 1,\n",
    "                             'l1_decay': 0 ,\n",
    "                             'max_diffusion_step': 1,\n",
    "                             'num_nodes': 150,\n",
    "                             'num_rnn_layers': 2,\n",
    "                             'output_dim': 1,\n",
    "                             'rnn_units': 64,\n",
    "                             'seq_len': 12,\n",
    "                             'use_curriculum_learning': True},\n",
    "                    'train':{ 'base_lr': 0.01,\n",
    "                              'dropout': 0,\n",
    "                              'epoch': 64,\n",
    "                              'epochs': 300,\n",
    "                              'epsilon': 0.001,\n",
    "                              'global_step': 18655,\n",
    "                              'groundtruth_file': ground_truths_file,\n",
    "                             'log_dir': 'results',\n",
    "                              'lr_decay_ratio': 0.1,\n",
    "                              'max_grad_norm': 5,\n",
    "                              'max_to_keep': 100,\n",
    "                              'min_learning_rate': 2.0e-06,\n",
    "                              'model_filename': model_filename,\n",
    "                              'optimizer': 'adam',\n",
    "                              'patience': 50,\n",
    "                              'preds_file': predictions_file,\n",
    "                              'steps':'[20]',\n",
    "                              'test_every_n_epochs': 1}\n",
    "                }\n",
    " \n",
    "# Write YAML file\n",
    "config_file_name = './best_model/config_for_pre_trained_dcrnn.yaml'\n",
    "with io.open(config_file_name, 'w', encoding='utf8') as outfile:\n",
    "    yaml.dump(configuration, outfile, default_flow_style=False, allow_unicode=True)"
   ]
  },
  {
   "cell_type": "code",
   "execution_count": 6,
   "metadata": {},
   "outputs": [],
   "source": [
    "def run_dcrnn(config_file, output_file, use_gpu = True):\n",
    "    \n",
    "    # safely load the config yaml file\n",
    "    with open(config_file, 'r') as f:\n",
    "        try: \n",
    "            cfile = yaml.safe_load(f)\n",
    "        except yaml.YAMLError as exc:\n",
    "            print(exc)\n",
    "            \n",
    "    tf_config = tf.ConfigProto()\n",
    "    if use_gpu:\n",
    "        tf_config = tf.ConfigProto(device_count={'GPU': 0})\n",
    "    tf_config.gpu_options.allow_growth = True\n",
    "    \n",
    "    graph_pkl_filename = cfile['data']['graph_pkl_filename']\n",
    "    _, _, adj_mx = load_graph_data(graph_pkl_filename)\n",
    "    \n",
    "    with tf.Session(config=tf_config) as sess:\n",
    "        \n",
    "        supervisor = DCRNNSupervisor(adj_mx=adj_mx, **cfile)\n",
    "        \n",
    "        supervisor.load(sess, cfile['train']['model_filename'])\n",
    "        \n",
    "        outputs = supervisor.evaluate(sess)\n",
    "        \n",
    "        np.savez_compressed(output_file, **outputs)\n",
    "        print('Predictions saved as {}.'.format(output_file))"
   ]
  },
  {
   "cell_type": "code",
   "execution_count": 7,
   "metadata": {},
   "outputs": [
    {
     "name": "stdout",
     "output_type": "stream",
     "text": [
      "2021-03-19 15:29:58,345 - INFO - Log directory: results\n",
      "2021-03-19 15:29:58,346 - INFO - {'base_dir': 'results', 'data': {'batch_size': 32, 'dataset_dir': './data/', 'graph_pkl_filename': './helper_files/adj_mat_volume.pkl', 'test_batch_size': 64, 'val_batch_size': 64}, 'log_level': 'INFO', 'model': {'cl_decay_steps': 2000, 'filter_type': 'dual_random_walk', 'horizon': 12, 'input_dim': 1, 'l1_decay': 0, 'max_diffusion_step': 1, 'num_nodes': 150, 'num_rnn_layers': 2, 'output_dim': 1, 'rnn_units': 64, 'seq_len': 12, 'use_curriculum_learning': True}, 'train': {'base_lr': 0.01, 'dropout': 0, 'epoch': 64, 'epochs': 300, 'epsilon': 0.001, 'global_step': 18655, 'groundtruth_file': 'y_truth_GCGRNN_volume_150.csv', 'log_dir': 'results', 'lr_decay_ratio': 0.1, 'max_grad_norm': 5, 'max_to_keep': 100, 'min_learning_rate': 2e-06, 'model_filename': './best_model\\\\models-462.8403-63427', 'optimizer': 'adam', 'patience': 50, 'preds_file': 'GCGRNN_volume_150.csv', 'steps': '[20]', 'test_every_n_epochs': 1}}\n",
      "2021-03-19 15:29:59,548 - INFO - ('x_train', (9157, 12, 150, 1))\n",
      "2021-03-19 15:29:59,548 - INFO - ('y_train', (9157, 12, 150, 1))\n",
      "2021-03-19 15:29:59,549 - INFO - ('x_val', (1308, 12, 150, 1))\n",
      "2021-03-19 15:29:59,549 - INFO - ('y_val', (1308, 12, 150, 1))\n",
      "2021-03-19 15:29:59,550 - INFO - ('x_test', (2616, 12, 150, 1))\n",
      "2021-03-19 15:29:59,550 - INFO - ('y_test', (2616, 12, 150, 1))\n"
     ]
    },
    {
     "name": "stderr",
     "output_type": "stream",
     "text": [
      "C:\\Users\\b\\Desktop\\direct_DCRNN\\lib\\utils.py:104: RuntimeWarning: divide by zero encountered in power\n",
      "  d_inv = np.power(d, -1).flatten()\n"
     ]
    },
    {
     "name": "stdout",
     "output_type": "stream",
     "text": [
      "2021-03-19 15:30:08,723 - INFO - Total number of trainable parameters: 223168\n",
      "INFO:tensorflow:Restoring parameters from ./best_model\\models-462.8403-63427\n",
      "2021-03-19 15:31:34,491 - INFO - Horizon 01, MAE: 244.94, MAPE: 0.0783, RMSE: 373.63\n",
      "2021-03-19 15:31:34,518 - INFO - Horizon 02, MAE: 364.27, MAPE: 0.1250, RMSE: 562.18\n",
      "2021-03-19 15:31:34,542 - INFO - Horizon 03, MAE: 440.97, MAPE: 0.1630, RMSE: 693.51\n",
      "2021-03-19 15:31:34,563 - INFO - Horizon 04, MAE: 486.54, MAPE: 0.1881, RMSE: 773.55\n",
      "2021-03-19 15:31:34,585 - INFO - Horizon 05, MAE: 506.08, MAPE: 0.1993, RMSE: 810.06\n",
      "2021-03-19 15:31:34,606 - INFO - Horizon 06, MAE: 509.78, MAPE: 0.2011, RMSE: 820.19\n",
      "2021-03-19 15:31:34,628 - INFO - Horizon 07, MAE: 512.07, MAPE: 0.2021, RMSE: 833.27\n",
      "2021-03-19 15:31:34,649 - INFO - Horizon 08, MAE: 517.37, MAPE: 0.2027, RMSE: 858.46\n",
      "2021-03-19 15:31:34,671 - INFO - Horizon 09, MAE: 519.25, MAPE: 0.2030, RMSE: 872.80\n",
      "2021-03-19 15:31:34,692 - INFO - Horizon 10, MAE: 512.86, MAPE: 0.1964, RMSE: 870.82\n",
      "2021-03-19 15:31:34,714 - INFO - Horizon 11, MAE: 490.13, MAPE: 0.1796, RMSE: 837.49\n",
      "2021-03-19 15:31:34,736 - INFO - Horizon 12, MAE: 447.35, MAPE: 0.1577, RMSE: 769.52\n",
      "Predictions saved as ./best_model/best_model_output.npz.\n"
     ]
    }
   ],
   "source": [
    "output_filename = './best_model/best_model_output.npz'\n",
    "\n",
    "# If you do not have a GPU, set the use_gpu option to False\n",
    "run_dcrnn(config_file_name,output_filename, use_gpu = True)  "
   ]
  },
  {
   "cell_type": "code",
   "execution_count": 8,
   "metadata": {},
   "outputs": [
    {
     "name": "stdout",
     "output_type": "stream",
     "text": [
      "predictions\n",
      "groundtruth\n"
     ]
    }
   ],
   "source": [
    "# Look at the predictions, are they already scaled ?\n",
    "outputs = np.load('./best_model/best_model_output.npz.')\n",
    "for k in outputs:\n",
    "    print(k)"
   ]
  },
  {
   "cell_type": "code",
   "execution_count": 9,
   "metadata": {},
   "outputs": [
    {
     "name": "stdout",
     "output_type": "stream",
     "text": [
      "11103.598\n",
      "-160.9353\n"
     ]
    }
   ],
   "source": [
    "print(np.max(outputs['predictions']))\n",
    "print(np.min(outputs['predictions']))"
   ]
  },
  {
   "cell_type": "code",
   "execution_count": 10,
   "metadata": {},
   "outputs": [],
   "source": [
    "## seems like DCRNN predictions can be -ve"
   ]
  }
 ],
 "metadata": {
  "kernelspec": {
   "display_name": "adversarial_gcgrnn",
   "language": "python",
   "name": "adversarial_gcgrnn"
  },
  "language_info": {
   "codemirror_mode": {
    "name": "ipython",
    "version": 3
   },
   "file_extension": ".py",
   "mimetype": "text/x-python",
   "name": "python",
   "nbconvert_exporter": "python",
   "pygments_lexer": "ipython3",
   "version": "3.6.5"
  }
 },
 "nbformat": 4,
 "nbformat_minor": 4
}
